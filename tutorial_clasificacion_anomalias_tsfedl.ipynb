{
  "nbformat": 4,
  "nbformat_minor": 0,
  "metadata": {
    "colab": {
      "provenance": []
    },
    "kernelspec": {
      "name": "python3",
      "display_name": "Python 3"
    },
    "language_info": {
      "name": "python"
    },
    "accelerator": "GPU",
    "gpuClass": "standard"
  },
  "cells": [
    {
      "cell_type": "markdown",
      "source": [
        "# Time Series Feature Extraction using Deep Learning (TSFEDL)"
      ],
      "metadata": {
        "id": "c_UXQOjgx50K"
      }
    },
    {
      "cell_type": "markdown",
      "source": [
        "En este cuaderno nos vamos a centrar en utilizar la librería TSFEDL (https://github.com/ari-dasci/S-TSFE-DL) para detectar arritmias sobre el conjunto de datos Physionet como un problema de clasificación y realizar el mismo procedimiento abordándolo como un problema de detección de anomalías.\n",
        "\n",
        "La biblioteca TSFEDL posee una gran variedad de redes neuronales diseñadas para tratar con datos temporales. En concreto la librería posee 24 modelos implementados con diversas arquitecturas (autoencoder, redes de clasificación, predicción, detección de anomalías o regresión) aunque todas pueden ser adaptadas a todo tipo de problemas. En este tutorial veremos cómo podemos usarlas empleando la implementación interna en Tensorflow+Keras. Actualmente también se dispone de la implementación de las mismas redes en PyTorch."
      ],
      "metadata": {
        "id": "zSNcY8RfzPH_"
      }
    },
    {
      "cell_type": "markdown",
      "source": [
        "En primer lugar descargamos el conjunto de datos a emplear e instalamos los paquetes necesarios. Estas dos celdas no producen salida pero pueden tardar algunos minutos."
      ],
      "metadata": {
        "id": "THmTBOGlzzOn"
      }
    },
    {
      "cell_type": "code",
      "source": [
        "%%capture\n",
        "!pip install wfdb tsfedl sklearn"
      ],
      "metadata": {
        "id": "bpHE4XqZz9xz",
        "colab": {
          "base_uri": "https://localhost:8080/"
        },
        "outputId": "c0a0b04a-fc5b-4773-d5c1-d2dbf7afc448"
      },
      "execution_count": null,
      "outputs": [
        {
          "output_type": "stream",
          "name": "stdout",
          "text": [
            "Looking in indexes: https://pypi.org/simple, https://us-python.pkg.dev/colab-wheels/public/simple/\n",
            "Collecting wfdb\n",
            "  Using cached wfdb-4.1.0-py3-none-any.whl (159 kB)\n",
            "Collecting tsfedl\n",
            "  Using cached TSFEDL-1.0.7.1-py3-none-any.whl (44 kB)\n",
            "Collecting sklearn\n",
            "  Using cached sklearn-0.0.post1.tar.gz (3.6 kB)\n",
            "  Preparing metadata (setup.py) ... \u001b[?25l\u001b[?25hdone\n",
            "Requirement already satisfied: pandas<2.0.0,>=1.0.0 in /usr/local/lib/python3.9/dist-packages (from wfdb) (1.4.4)\n",
            "Requirement already satisfied: matplotlib<4.0.0,>=3.2.2 in /usr/local/lib/python3.9/dist-packages (from wfdb) (3.5.3)\n",
            "Requirement already satisfied: requests<3.0.0,>=2.8.1 in /usr/local/lib/python3.9/dist-packages (from wfdb) (2.25.1)\n",
            "Requirement already satisfied: scipy<2.0.0,>=1.0.0 in /usr/local/lib/python3.9/dist-packages (from wfdb) (1.10.1)\n",
            "Requirement already satisfied: numpy<2.0.0,>=1.10.1 in /usr/local/lib/python3.9/dist-packages (from wfdb) (1.22.4)\n",
            "Collecting SoundFile<0.12.0,>=0.10.0\n",
            "  Downloading soundfile-0.11.0-py2.py3-none-any.whl (23 kB)\n",
            "Collecting keras==2.6.0\n",
            "  Downloading keras-2.6.0-py2.py3-none-any.whl (1.3 MB)\n",
            "\u001b[2K     \u001b[90m━━━━━━━━━━━━━━━━━━━━━━━━━━━━━━━━━━━━━━━━\u001b[0m \u001b[32m1.3/1.3 MB\u001b[0m \u001b[31m68.0 MB/s\u001b[0m eta \u001b[36m0:00:00\u001b[0m\n",
            "\u001b[?25hCollecting torchmetrics\n",
            "  Downloading torchmetrics-0.11.4-py3-none-any.whl (519 kB)\n",
            "\u001b[2K     \u001b[90m━━━━━━━━━━━━━━━━━━━━━━━━━━━━━━━━━━━━━━\u001b[0m \u001b[32m519.2/519.2 KB\u001b[0m \u001b[31m43.0 MB/s\u001b[0m eta \u001b[36m0:00:00\u001b[0m\n",
            "\u001b[?25hCollecting pytorch-lightning\n",
            "  Downloading pytorch_lightning-1.9.4-py3-none-any.whl (827 kB)\n",
            "\u001b[2K     \u001b[90m━━━━━━━━━━━━━━━━━━━━━━━━━━━━━━━━━━━━━━\u001b[0m \u001b[32m827.8/827.8 KB\u001b[0m \u001b[31m45.7 MB/s\u001b[0m eta \u001b[36m0:00:00\u001b[0m\n",
            "\u001b[?25hCollecting obspy\n",
            "  Downloading obspy-1.4.0-cp39-cp39-manylinux_2_17_x86_64.manylinux2014_x86_64.whl (14.5 MB)\n",
            "\u001b[2K     \u001b[90m━━━━━━━━━━━━━━━━━━━━━━━━━━━━━━━━━━━━━━━━\u001b[0m \u001b[32m14.5/14.5 MB\u001b[0m \u001b[31m71.8 MB/s\u001b[0m eta \u001b[36m0:00:00\u001b[0m\n",
            "\u001b[?25hRequirement already satisfied: scikit-learn in /usr/local/lib/python3.9/dist-packages (from tsfedl) (1.2.2)\n",
            "Collecting tensorflow==2.6.0\n",
            "  Downloading tensorflow-2.6.0-cp39-cp39-manylinux2010_x86_64.whl (458.4 MB)\n",
            "\u001b[2K     \u001b[90m━━━━━━━━━━━━━━━━━━━━━━━━━━━━━━━━━━━━━━━\u001b[0m \u001b[32m458.4/458.4 MB\u001b[0m \u001b[31m3.8 MB/s\u001b[0m eta \u001b[36m0:00:00\u001b[0m\n",
            "\u001b[?25hRequirement already satisfied: six~=1.15.0 in /usr/local/lib/python3.9/dist-packages (from tensorflow==2.6.0->tsfedl) (1.15.0)\n",
            "Requirement already satisfied: protobuf>=3.9.2 in /usr/local/lib/python3.9/dist-packages (from tensorflow==2.6.0->tsfedl) (3.19.6)\n",
            "Requirement already satisfied: gast==0.4.0 in /usr/local/lib/python3.9/dist-packages (from tensorflow==2.6.0->tsfedl) (0.4.0)\n",
            "Collecting clang~=5.0\n",
            "  Downloading clang-5.0.tar.gz (30 kB)\n",
            "  Preparing metadata (setup.py) ... \u001b[?25l\u001b[?25hdone\n",
            "Requirement already satisfied: astunparse~=1.6.3 in /usr/local/lib/python3.9/dist-packages (from tensorflow==2.6.0->tsfedl) (1.6.3)\n",
            "Collecting wrapt~=1.12.1\n",
            "  Downloading wrapt-1.12.1.tar.gz (27 kB)\n",
            "  Preparing metadata (setup.py) ... \u001b[?25l\u001b[?25hdone\n",
            "Requirement already satisfied: grpcio<2.0,>=1.37.0 in /usr/local/lib/python3.9/dist-packages (from tensorflow==2.6.0->tsfedl) (1.51.3)\n",
            "Requirement already satisfied: tensorflow-estimator~=2.6 in /usr/local/lib/python3.9/dist-packages (from tensorflow==2.6.0->tsfedl) (2.11.0)\n",
            "Requirement already satisfied: tensorboard~=2.6 in /usr/local/lib/python3.9/dist-packages (from tensorflow==2.6.0->tsfedl) (2.11.2)\n",
            "Requirement already satisfied: google-pasta~=0.2 in /usr/local/lib/python3.9/dist-packages (from tensorflow==2.6.0->tsfedl) (0.2.0)\n",
            "Requirement already satisfied: opt-einsum~=3.3.0 in /usr/local/lib/python3.9/dist-packages (from tensorflow==2.6.0->tsfedl) (3.3.0)\n",
            "Requirement already satisfied: wheel~=0.35 in /usr/local/lib/python3.9/dist-packages (from tensorflow==2.6.0->tsfedl) (0.38.4)\n",
            "Collecting termcolor~=1.1.0\n",
            "  Downloading termcolor-1.1.0.tar.gz (3.9 kB)\n",
            "  Preparing metadata (setup.py) ... \u001b[?25l\u001b[?25hdone\n",
            "Collecting numpy<2.0.0,>=1.10.1\n",
            "  Downloading numpy-1.19.5-cp39-cp39-manylinux2010_x86_64.whl (14.9 MB)\n",
            "\u001b[2K     \u001b[90m━━━━━━━━━━━━━━━━━━━━━━━━━━━━━━━━━━━━━━━━\u001b[0m \u001b[32m14.9/14.9 MB\u001b[0m \u001b[31m67.2 MB/s\u001b[0m eta \u001b[36m0:00:00\u001b[0m\n",
            "\u001b[?25hCollecting keras-preprocessing~=1.1.2\n",
            "  Downloading Keras_Preprocessing-1.1.2-py2.py3-none-any.whl (42 kB)\n",
            "\u001b[2K     \u001b[90m━━━━━━━━━━━━━━━━━━━━━━━━━━━━━━━━━━━━━━━━\u001b[0m \u001b[32m42.6/42.6 KB\u001b[0m \u001b[31m6.1 MB/s\u001b[0m eta \u001b[36m0:00:00\u001b[0m\n",
            "\u001b[?25hCollecting absl-py~=0.10\n",
            "  Downloading absl_py-0.15.0-py3-none-any.whl (132 kB)\n",
            "\u001b[2K     \u001b[90m━━━━━━━━━━━━━━━━━━━━━━━━━━━━━━━━━━━━━━\u001b[0m \u001b[32m132.0/132.0 KB\u001b[0m \u001b[31m16.7 MB/s\u001b[0m eta \u001b[36m0:00:00\u001b[0m\n",
            "\u001b[?25hCollecting typing-extensions~=3.7.4\n",
            "  Downloading typing_extensions-3.7.4.3-py3-none-any.whl (22 kB)\n",
            "Collecting flatbuffers~=1.12.0\n",
            "  Downloading flatbuffers-1.12-py2.py3-none-any.whl (15 kB)\n",
            "Requirement already satisfied: h5py~=3.1.0 in /usr/local/lib/python3.9/dist-packages (from tensorflow==2.6.0->tsfedl) (3.1.0)\n",
            "Requirement already satisfied: kiwisolver>=1.0.1 in /usr/local/lib/python3.9/dist-packages (from matplotlib<4.0.0,>=3.2.2->wfdb) (1.4.4)\n",
            "Requirement already satisfied: packaging>=20.0 in /usr/local/lib/python3.9/dist-packages (from matplotlib<4.0.0,>=3.2.2->wfdb) (23.0)\n",
            "Requirement already satisfied: fonttools>=4.22.0 in /usr/local/lib/python3.9/dist-packages (from matplotlib<4.0.0,>=3.2.2->wfdb) (4.39.0)\n",
            "Requirement already satisfied: pyparsing>=2.2.1 in /usr/local/lib/python3.9/dist-packages (from matplotlib<4.0.0,>=3.2.2->wfdb) (3.0.9)\n",
            "Requirement already satisfied: python-dateutil>=2.7 in /usr/local/lib/python3.9/dist-packages (from matplotlib<4.0.0,>=3.2.2->wfdb) (2.8.2)\n",
            "Requirement already satisfied: pillow>=6.2.0 in /usr/local/lib/python3.9/dist-packages (from matplotlib<4.0.0,>=3.2.2->wfdb) (8.4.0)\n",
            "Requirement already satisfied: cycler>=0.10 in /usr/local/lib/python3.9/dist-packages (from matplotlib<4.0.0,>=3.2.2->wfdb) (0.11.0)\n",
            "Requirement already satisfied: pytz>=2020.1 in /usr/local/lib/python3.9/dist-packages (from pandas<2.0.0,>=1.0.0->wfdb) (2022.7.1)\n",
            "Requirement already satisfied: chardet<5,>=3.0.2 in /usr/local/lib/python3.9/dist-packages (from requests<3.0.0,>=2.8.1->wfdb) (4.0.0)\n",
            "Requirement already satisfied: urllib3<1.27,>=1.21.1 in /usr/local/lib/python3.9/dist-packages (from requests<3.0.0,>=2.8.1->wfdb) (1.26.15)\n",
            "Requirement already satisfied: idna<3,>=2.5 in /usr/local/lib/python3.9/dist-packages (from requests<3.0.0,>=2.8.1->wfdb) (2.10)\n",
            "Requirement already satisfied: certifi>=2017.4.17 in /usr/local/lib/python3.9/dist-packages (from requests<3.0.0,>=2.8.1->wfdb) (2022.12.7)\n",
            "Requirement already satisfied: cffi>=1.0 in /usr/local/lib/python3.9/dist-packages (from SoundFile<0.12.0,>=0.10.0->wfdb) (1.15.1)\n",
            "Requirement already satisfied: setuptools in /usr/local/lib/python3.9/dist-packages (from obspy->tsfedl) (63.4.3)\n",
            "Requirement already satisfied: sqlalchemy in /usr/local/lib/python3.9/dist-packages (from obspy->tsfedl) (1.4.46)\n",
            "Requirement already satisfied: decorator in /usr/local/lib/python3.9/dist-packages (from obspy->tsfedl) (4.4.2)\n",
            "Collecting obspy\n",
            "  Downloading obspy-1.3.1-cp39-cp39-manylinux_2_17_x86_64.manylinux2014_x86_64.whl (14.4 MB)\n",
            "\u001b[2K     \u001b[90m━━━━━━━━━━━━━━━━━━━━━━━━━━━━━━━━━━━━━━━━\u001b[0m \u001b[32m14.4/14.4 MB\u001b[0m \u001b[31m75.6 MB/s\u001b[0m eta \u001b[36m0:00:00\u001b[0m\n",
            "\u001b[?25hRequirement already satisfied: lxml in /usr/local/lib/python3.9/dist-packages (from obspy->tsfedl) (4.9.2)\n",
            "Requirement already satisfied: PyYAML>=5.4 in /usr/local/lib/python3.9/dist-packages (from pytorch-lightning->tsfedl) (6.0)\n",
            "Collecting pytorch-lightning\n",
            "  Downloading pytorch_lightning-1.9.3-py3-none-any.whl (826 kB)\n",
            "\u001b[2K     \u001b[90m━━━━━━━━━━━━━━━━━━━━━━━━━━━━━━━━━━━━━━\u001b[0m \u001b[32m826.4/826.4 KB\u001b[0m \u001b[31m59.7 MB/s\u001b[0m eta \u001b[36m0:00:00\u001b[0m\n",
            "\u001b[?25h  Downloading pytorch_lightning-1.9.2-py3-none-any.whl (826 kB)\n",
            "\u001b[2K     \u001b[90m━━━━━━━━━━━━━━━━━━━━━━━━━━━━━━━━━━━━━━\u001b[0m \u001b[32m826.2/826.2 KB\u001b[0m \u001b[31m65.8 MB/s\u001b[0m eta \u001b[36m0:00:00\u001b[0m\n",
            "\u001b[?25h  Downloading pytorch_lightning-1.9.1-py3-none-any.whl (825 kB)\n",
            "\u001b[2K     \u001b[90m━━━━━━━━━━━━━━━━━━━━━━━━━━━━━━━━━━━━━━\u001b[0m \u001b[32m825.8/825.8 KB\u001b[0m \u001b[31m62.1 MB/s\u001b[0m eta \u001b[36m0:00:00\u001b[0m\n",
            "\u001b[?25h  Downloading pytorch_lightning-1.9.0-py3-none-any.whl (825 kB)\n",
            "\u001b[2K     \u001b[90m━━━━━━━━━━━━━━━━━━━━━━━━━━━━━━━━━━━━━━\u001b[0m \u001b[32m825.8/825.8 KB\u001b[0m \u001b[31m59.4 MB/s\u001b[0m eta \u001b[36m0:00:00\u001b[0m\n",
            "\u001b[?25h  Downloading pytorch_lightning-1.8.6-py3-none-any.whl (800 kB)\n",
            "\u001b[2K     \u001b[90m━━━━━━━━━━━━━━━━━━━━━━━━━━━━━━━━━━━━━━\u001b[0m \u001b[32m800.3/800.3 KB\u001b[0m \u001b[31m69.6 MB/s\u001b[0m eta \u001b[36m0:00:00\u001b[0m\n",
            "\u001b[?25hCollecting lightning-utilities!=0.4.0,>=0.3.0\n",
            "  Downloading lightning_utilities-0.8.0-py3-none-any.whl (20 kB)\n",
            "Collecting pytorch-lightning\n",
            "  Downloading pytorch_lightning-1.8.5.post0-py3-none-any.whl (800 kB)\n",
            "\u001b[2K     \u001b[90m━━━━━━━━━━━━━━━━━━━━━━━━━━━━━━━━━━━━━━\u001b[0m \u001b[32m800.5/800.5 KB\u001b[0m \u001b[31m63.2 MB/s\u001b[0m eta \u001b[36m0:00:00\u001b[0m\n",
            "\u001b[?25h  Downloading pytorch_lightning-1.8.5-py3-none-any.whl (800 kB)\n",
            "\u001b[2K     \u001b[90m━━━━━━━━━━━━━━━━━━━━━━━━━━━━━━━━━━━━━━\u001b[0m \u001b[32m800.4/800.4 KB\u001b[0m \u001b[31m65.0 MB/s\u001b[0m eta \u001b[36m0:00:00\u001b[0m\n",
            "\u001b[?25h  Downloading pytorch_lightning-1.8.4.post0-py3-none-any.whl (800 kB)\n",
            "\u001b[2K     \u001b[90m━━━━━━━━━━━━━━━━━━━━━━━━━━━━━━━━━━━━━━\u001b[0m \u001b[32m800.3/800.3 KB\u001b[0m \u001b[31m63.8 MB/s\u001b[0m eta \u001b[36m0:00:00\u001b[0m\n",
            "\u001b[?25h  Downloading pytorch_lightning-1.8.4-py3-none-any.whl (799 kB)\n",
            "\u001b[2K     \u001b[90m━━━━━━━━━━━━━━━━━━━━━━━━━━━━━━━━━━━━━━\u001b[0m \u001b[32m800.0/800.0 KB\u001b[0m \u001b[31m65.1 MB/s\u001b[0m eta \u001b[36m0:00:00\u001b[0m\n",
            "\u001b[?25h  Downloading pytorch_lightning-1.8.3.post2-py3-none-any.whl (798 kB)\n",
            "\u001b[2K     \u001b[90m━━━━━━━━━━━━━━━━━━━━━━━━━━━━━━━━━━━━━━\u001b[0m \u001b[32m798.9/798.9 KB\u001b[0m \u001b[31m71.3 MB/s\u001b[0m eta \u001b[36m0:00:00\u001b[0m\n",
            "\u001b[?25h  Downloading pytorch_lightning-1.8.3.post1-py3-none-any.whl (798 kB)\n",
            "\u001b[2K     \u001b[90m━━━━━━━━━━━━━━━━━━━━━━━━━━━━━━━━━━━━━━\u001b[0m \u001b[32m798.9/798.9 KB\u001b[0m \u001b[31m68.7 MB/s\u001b[0m eta \u001b[36m0:00:00\u001b[0m\n",
            "\u001b[?25h  Downloading pytorch_lightning-1.8.3.post0-py3-none-any.whl (798 kB)\n",
            "\u001b[2K     \u001b[90m━━━━━━━━━━━━━━━━━━━━━━━━━━━━━━━━━━━━━━\u001b[0m \u001b[32m799.0/799.0 KB\u001b[0m \u001b[31m68.0 MB/s\u001b[0m eta \u001b[36m0:00:00\u001b[0m\n",
            "\u001b[?25h  Downloading pytorch_lightning-1.8.3-py3-none-any.whl (798 kB)\n",
            "\u001b[2K     \u001b[90m━━━━━━━━━━━━━━━━━━━━━━━━━━━━━━━━━━━━━━\u001b[0m \u001b[32m798.9/798.9 KB\u001b[0m \u001b[31m52.6 MB/s\u001b[0m eta \u001b[36m0:00:00\u001b[0m\n",
            "\u001b[?25h  Downloading pytorch_lightning-1.8.2-py3-none-any.whl (798 kB)\n",
            "\u001b[2K     \u001b[90m━━━━━━━━━━━━━━━━━━━━━━━━━━━━━━━━━━━━━━\u001b[0m \u001b[32m798.7/798.7 KB\u001b[0m \u001b[31m69.8 MB/s\u001b[0m eta \u001b[36m0:00:00\u001b[0m\n",
            "\u001b[?25h  Downloading pytorch_lightning-1.8.1-py3-none-any.whl (798 kB)\n",
            "\u001b[2K     \u001b[90m━━━━━━━━━━━━━━━━━━━━━━━━━━━━━━━━━━━━━━\u001b[0m \u001b[32m798.4/798.4 KB\u001b[0m \u001b[31m64.4 MB/s\u001b[0m eta \u001b[36m0:00:00\u001b[0m\n",
            "\u001b[?25h  Downloading pytorch_lightning-1.8.0.post1-py3-none-any.whl (796 kB)\n",
            "\u001b[2K     \u001b[90m━━━━━━━━━━━━━━━━━━━━━━━━━━━━━━━━━━━━━━\u001b[0m \u001b[32m796.1/796.1 KB\u001b[0m \u001b[31m72.5 MB/s\u001b[0m eta \u001b[36m0:00:00\u001b[0m\n",
            "\u001b[?25h  Downloading pytorch_lightning-1.8.0-py3-none-any.whl (795 kB)\n",
            "\u001b[2K     \u001b[90m━━━━━━━━━━━━━━━━━━━━━━━━━━━━━━━━━━━━━━\u001b[0m \u001b[32m795.8/795.8 KB\u001b[0m \u001b[31m56.4 MB/s\u001b[0m eta \u001b[36m0:00:00\u001b[0m\n",
            "\u001b[?25h  Downloading pytorch_lightning-1.7.7-py3-none-any.whl (708 kB)\n",
            "\u001b[2K     \u001b[90m━━━━━━━━━━━━━━━━━━━━━━━━━━━━━━━━━━━━━━\u001b[0m \u001b[32m708.1/708.1 KB\u001b[0m \u001b[31m62.8 MB/s\u001b[0m eta \u001b[36m0:00:00\u001b[0m\n",
            "\u001b[?25hRequirement already satisfied: fsspec[http]!=2021.06.0,>=2021.05.0 in /usr/local/lib/python3.9/dist-packages (from pytorch-lightning->tsfedl) (2023.3.0)\n",
            "Collecting pyDeprecate>=0.3.1\n",
            "  Downloading pyDeprecate-0.3.2-py3-none-any.whl (10 kB)\n",
            "Collecting pytorch-lightning\n",
            "  Downloading pytorch_lightning-1.7.6-py3-none-any.whl (707 kB)\n",
            "\u001b[2K     \u001b[90m━━━━━━━━━━━━━━━━━━━━━━━━━━━━━━━━━━━━━━\u001b[0m \u001b[32m707.5/707.5 KB\u001b[0m \u001b[31m67.2 MB/s\u001b[0m eta \u001b[36m0:00:00\u001b[0m\n",
            "\u001b[?25h  Downloading pytorch_lightning-1.7.5-py3-none-any.whl (706 kB)\n",
            "\u001b[2K     \u001b[90m━━━━━━━━━━━━━━━━━━━━━━━━━━━━━━━━━━━━━━\u001b[0m \u001b[32m706.6/706.6 KB\u001b[0m \u001b[31m68.8 MB/s\u001b[0m eta \u001b[36m0:00:00\u001b[0m\n",
            "\u001b[?25h  Downloading pytorch_lightning-1.7.4-py3-none-any.whl (706 kB)\n",
            "\u001b[2K     \u001b[90m━━━━━━━━━━━━━━━━━━━━━━━━━━━━━━━━━━━━━━\u001b[0m \u001b[32m706.5/706.5 KB\u001b[0m \u001b[31m61.9 MB/s\u001b[0m eta \u001b[36m0:00:00\u001b[0m\n",
            "\u001b[?25h  Downloading pytorch_lightning-1.7.3-py3-none-any.whl (705 kB)\n",
            "\u001b[2K     \u001b[90m━━━━━━━━━━━━━━━━━━━━━━━━━━━━━━━━━━━━━━\u001b[0m \u001b[32m705.8/705.8 KB\u001b[0m \u001b[31m64.5 MB/s\u001b[0m eta \u001b[36m0:00:00\u001b[0m\n",
            "\u001b[?25h  Downloading pytorch_lightning-1.7.2-py3-none-any.whl (705 kB)\n",
            "\u001b[2K     \u001b[90m━━━━━━━━━━━━━━━━━━━━━━━━━━━━━━━━━━━━━━\u001b[0m \u001b[32m705.6/705.6 KB\u001b[0m \u001b[31m71.3 MB/s\u001b[0m eta \u001b[36m0:00:00\u001b[0m\n",
            "\u001b[?25h  Downloading pytorch_lightning-1.7.1-py3-none-any.whl (701 kB)\n",
            "\u001b[2K     \u001b[90m━━━━━━━━━━━━━━━━━━━━━━━━━━━━━━━━━━━━━━\u001b[0m \u001b[32m701.5/701.5 KB\u001b[0m \u001b[31m67.1 MB/s\u001b[0m eta \u001b[36m0:00:00\u001b[0m\n",
            "\u001b[?25h  Downloading pytorch_lightning-1.7.0-py3-none-any.whl (700 kB)\n",
            "\u001b[2K     \u001b[90m━━━━━━━━━━━━━━━━━━━━━━━━━━━━━━━━━━━━━━\u001b[0m \u001b[32m700.9/700.9 KB\u001b[0m \u001b[31m56.6 MB/s\u001b[0m eta \u001b[36m0:00:00\u001b[0m\n",
            "\u001b[?25h  Downloading pytorch_lightning-1.6.5-py3-none-any.whl (585 kB)\n",
            "\u001b[2K     \u001b[90m━━━━━━━━━━━━━━━━━━━━━━━━━━━━━━━━━━━━━━\u001b[0m \u001b[32m585.9/585.9 KB\u001b[0m \u001b[31m52.7 MB/s\u001b[0m eta \u001b[36m0:00:00\u001b[0m\n",
            "\u001b[?25h  Downloading pytorch_lightning-1.6.4-py3-none-any.whl (585 kB)\n",
            "\u001b[2K     \u001b[90m━━━━━━━━━━━━━━━━━━━━━━━━━━━━━━━━━━━━━━\u001b[0m \u001b[32m585.5/585.5 KB\u001b[0m \u001b[31m54.5 MB/s\u001b[0m eta \u001b[36m0:00:00\u001b[0m\n",
            "\u001b[?25h  Downloading pytorch_lightning-1.6.3-py3-none-any.whl (584 kB)\n",
            "\u001b[2K     \u001b[90m━━━━━━━━━━━━━━━━━━━━━━━━━━━━━━━━━━━━━━\u001b[0m \u001b[32m584.0/584.0 KB\u001b[0m \u001b[31m42.2 MB/s\u001b[0m eta \u001b[36m0:00:00\u001b[0m\n",
            "\u001b[?25h  Downloading pytorch_lightning-1.6.2-py3-none-any.whl (582 kB)\n",
            "\u001b[2K     \u001b[90m━━━━━━━━━━━━━━━━━━━━━━━━━━━━━━━━━━━━━━\u001b[0m \u001b[32m582.9/582.9 KB\u001b[0m \u001b[31m58.5 MB/s\u001b[0m eta \u001b[36m0:00:00\u001b[0m\n",
            "\u001b[?25hRequirement already satisfied: tqdm>=4.41.0 in /usr/local/lib/python3.9/dist-packages (from pytorch-lightning->tsfedl) (4.65.0)\n",
            "  Downloading pytorch_lightning-1.6.1-py3-none-any.whl (582 kB)\n",
            "\u001b[2K     \u001b[90m━━━━━━━━━━━━━━━━━━━━━━━━━━━━━━━━━━━━━━\u001b[0m \u001b[32m582.5/582.5 KB\u001b[0m \u001b[31m60.0 MB/s\u001b[0m eta \u001b[36m0:00:00\u001b[0m\n",
            "\u001b[?25h  Downloading pytorch_lightning-1.6.0-py3-none-any.whl (582 kB)\n",
            "\u001b[2K     \u001b[90m━━━━━━━━━━━━━━━━━━━━━━━━━━━━━━━━━━━━━━\u001b[0m \u001b[32m582.1/582.1 KB\u001b[0m \u001b[31m61.6 MB/s\u001b[0m eta \u001b[36m0:00:00\u001b[0m\n",
            "\u001b[?25h  Downloading pytorch_lightning-1.5.10-py3-none-any.whl (527 kB)\n",
            "\u001b[2K     \u001b[90m━━━━━━━━━━━━━━━━━━━━━━━━━━━━━━━━━━━━━━\u001b[0m \u001b[32m527.7/527.7 KB\u001b[0m \u001b[31m44.2 MB/s\u001b[0m eta \u001b[36m0:00:00\u001b[0m\n",
            "\u001b[?25hCollecting future>=0.17.1\n",
            "  Downloading future-0.18.3.tar.gz (840 kB)\n",
            "\u001b[2K     \u001b[90m━━━━━━━━━━━━━━━━━━━━━━━━━━━━━━━━━━━━━━\u001b[0m \u001b[32m840.9/840.9 KB\u001b[0m \u001b[31m67.9 MB/s\u001b[0m eta \u001b[36m0:00:00\u001b[0m\n",
            "\u001b[?25h  Preparing metadata (setup.py) ... \u001b[?25l\u001b[?25hdone\n",
            "Collecting setuptools\n",
            "  Downloading setuptools-59.5.0-py3-none-any.whl (952 kB)\n",
            "\u001b[2K     \u001b[90m━━━━━━━━━━━━━━━━━━━━━━━━━━━━━━━━━━━━━━\u001b[0m \u001b[32m952.4/952.4 KB\u001b[0m \u001b[31m73.1 MB/s\u001b[0m eta \u001b[36m0:00:00\u001b[0m\n",
            "\u001b[?25hRequirement already satisfied: torch>=1.7.* in /usr/local/lib/python3.9/dist-packages (from pytorch-lightning->tsfedl) (1.13.1+cu116)\n",
            "Collecting pyDeprecate==0.3.1\n",
            "  Downloading pyDeprecate-0.3.1-py3-none-any.whl (10 kB)\n",
            "Requirement already satisfied: threadpoolctl>=2.0.0 in /usr/local/lib/python3.9/dist-packages (from scikit-learn->tsfedl) (3.1.0)\n",
            "Requirement already satisfied: joblib>=1.1.1 in /usr/local/lib/python3.9/dist-packages (from scikit-learn->tsfedl) (1.1.1)\n",
            "Requirement already satisfied: pycparser in /usr/local/lib/python3.9/dist-packages (from cffi>=1.0->SoundFile<0.12.0,>=0.10.0->wfdb) (2.21)\n",
            "Collecting aiohttp!=4.0.0a0,!=4.0.0a1\n",
            "  Downloading aiohttp-3.8.4-cp39-cp39-manylinux_2_17_x86_64.manylinux2014_x86_64.whl (1.0 MB)\n",
            "\u001b[2K     \u001b[90m━━━━━━━━━━━━━━━━━━━━━━━━━━━━━━━━━━━━━━━━\u001b[0m \u001b[32m1.0/1.0 MB\u001b[0m \u001b[31m51.6 MB/s\u001b[0m eta \u001b[36m0:00:00\u001b[0m\n",
            "\u001b[?25hRequirement already satisfied: google-auth<3,>=1.6.3 in /usr/local/lib/python3.9/dist-packages (from tensorboard~=2.6->tensorflow==2.6.0->tsfedl) (2.16.2)\n",
            "Requirement already satisfied: werkzeug>=1.0.1 in /usr/local/lib/python3.9/dist-packages (from tensorboard~=2.6->tensorflow==2.6.0->tsfedl) (2.2.3)\n",
            "Requirement already satisfied: tensorboard-plugin-wit>=1.6.0 in /usr/local/lib/python3.9/dist-packages (from tensorboard~=2.6->tensorflow==2.6.0->tsfedl) (1.8.1)\n",
            "Requirement already satisfied: google-auth-oauthlib<0.5,>=0.4.1 in /usr/local/lib/python3.9/dist-packages (from tensorboard~=2.6->tensorflow==2.6.0->tsfedl) (0.4.6)\n",
            "Requirement already satisfied: tensorboard-data-server<0.7.0,>=0.6.0 in /usr/local/lib/python3.9/dist-packages (from tensorboard~=2.6->tensorflow==2.6.0->tsfedl) (0.6.1)\n",
            "Requirement already satisfied: markdown>=2.6.8 in /usr/local/lib/python3.9/dist-packages (from tensorboard~=2.6->tensorflow==2.6.0->tsfedl) (3.4.1)\n",
            "Requirement already satisfied: greenlet!=0.4.17 in /usr/local/lib/python3.9/dist-packages (from sqlalchemy->obspy->tsfedl) (2.0.2)\n",
            "Collecting frozenlist>=1.1.1\n",
            "  Downloading frozenlist-1.3.3-cp39-cp39-manylinux_2_5_x86_64.manylinux1_x86_64.manylinux_2_17_x86_64.manylinux2014_x86_64.whl (158 kB)\n",
            "\u001b[2K     \u001b[90m━━━━━━━━━━━━━━━━━━━━━━━━━━━━━━━━━━━━━━\u001b[0m \u001b[32m158.8/158.8 KB\u001b[0m \u001b[31m19.5 MB/s\u001b[0m eta \u001b[36m0:00:00\u001b[0m\n",
            "\u001b[?25hCollecting charset-normalizer<4.0,>=2.0\n",
            "  Downloading charset_normalizer-3.1.0-cp39-cp39-manylinux_2_17_x86_64.manylinux2014_x86_64.whl (199 kB)\n",
            "\u001b[2K     \u001b[90m━━━━━━━━━━━━━━━━━━━━━━━━━━━━━━━━━━━━━━\u001b[0m \u001b[32m199.2/199.2 KB\u001b[0m \u001b[31m26.7 MB/s\u001b[0m eta \u001b[36m0:00:00\u001b[0m\n",
            "\u001b[?25hCollecting yarl<2.0,>=1.0\n",
            "  Downloading yarl-1.8.2-cp39-cp39-manylinux_2_17_x86_64.manylinux2014_x86_64.whl (264 kB)\n",
            "\u001b[2K     \u001b[90m━━━━━━━━━━━━━━━━━━━━━━━━━━━━━━━━━━━━━━\u001b[0m \u001b[32m264.6/264.6 KB\u001b[0m \u001b[31m29.5 MB/s\u001b[0m eta \u001b[36m0:00:00\u001b[0m\n",
            "\u001b[?25hRequirement already satisfied: attrs>=17.3.0 in /usr/local/lib/python3.9/dist-packages (from aiohttp!=4.0.0a0,!=4.0.0a1->fsspec[http]!=2021.06.0,>=2021.05.0->pytorch-lightning->tsfedl) (22.2.0)\n",
            "Collecting async-timeout<5.0,>=4.0.0a3\n",
            "  Downloading async_timeout-4.0.2-py3-none-any.whl (5.8 kB)\n",
            "Collecting aiosignal>=1.1.2\n",
            "  Downloading aiosignal-1.3.1-py3-none-any.whl (7.6 kB)\n",
            "Collecting multidict<7.0,>=4.5\n",
            "  Downloading multidict-6.0.4-cp39-cp39-manylinux_2_17_x86_64.manylinux2014_x86_64.whl (114 kB)\n",
            "\u001b[2K     \u001b[90m━━━━━━━━━━━━━━━━━━━━━━━━━━━━━━━━━━━━━━\u001b[0m \u001b[32m114.2/114.2 KB\u001b[0m \u001b[31m15.5 MB/s\u001b[0m eta \u001b[36m0:00:00\u001b[0m\n",
            "\u001b[?25hRequirement already satisfied: pyasn1-modules>=0.2.1 in /usr/local/lib/python3.9/dist-packages (from google-auth<3,>=1.6.3->tensorboard~=2.6->tensorflow==2.6.0->tsfedl) (0.2.8)\n",
            "Requirement already satisfied: cachetools<6.0,>=2.0.0 in /usr/local/lib/python3.9/dist-packages (from google-auth<3,>=1.6.3->tensorboard~=2.6->tensorflow==2.6.0->tsfedl) (5.3.0)\n",
            "Requirement already satisfied: rsa<5,>=3.1.4 in /usr/local/lib/python3.9/dist-packages (from google-auth<3,>=1.6.3->tensorboard~=2.6->tensorflow==2.6.0->tsfedl) (4.9)\n",
            "Requirement already satisfied: requests-oauthlib>=0.7.0 in /usr/local/lib/python3.9/dist-packages (from google-auth-oauthlib<0.5,>=0.4.1->tensorboard~=2.6->tensorflow==2.6.0->tsfedl) (1.3.1)\n",
            "Requirement already satisfied: importlib-metadata>=4.4 in /usr/local/lib/python3.9/dist-packages (from markdown>=2.6.8->tensorboard~=2.6->tensorflow==2.6.0->tsfedl) (6.0.0)\n",
            "Requirement already satisfied: MarkupSafe>=2.1.1 in /usr/local/lib/python3.9/dist-packages (from werkzeug>=1.0.1->tensorboard~=2.6->tensorflow==2.6.0->tsfedl) (2.1.2)\n",
            "Requirement already satisfied: zipp>=0.5 in /usr/local/lib/python3.9/dist-packages (from importlib-metadata>=4.4->markdown>=2.6.8->tensorboard~=2.6->tensorflow==2.6.0->tsfedl) (3.15.0)\n",
            "Requirement already satisfied: pyasn1<0.5.0,>=0.4.6 in /usr/local/lib/python3.9/dist-packages (from pyasn1-modules>=0.2.1->google-auth<3,>=1.6.3->tensorboard~=2.6->tensorflow==2.6.0->tsfedl) (0.4.8)\n",
            "Requirement already satisfied: oauthlib>=3.0.0 in /usr/local/lib/python3.9/dist-packages (from requests-oauthlib>=0.7.0->google-auth-oauthlib<0.5,>=0.4.1->tensorboard~=2.6->tensorflow==2.6.0->tsfedl) (3.2.2)\n",
            "Building wheels for collected packages: sklearn, clang, future, termcolor, wrapt\n",
            "  Building wheel for sklearn (setup.py) ... \u001b[?25l\u001b[?25hdone\n",
            "  Created wheel for sklearn: filename=sklearn-0.0.post1-py3-none-any.whl size=2955 sha256=26abdce2f7f64901028f3afe1aa0e32bedfd5a204fc219a502e8db20a6599a11\n",
            "  Stored in directory: /root/.cache/pip/wheels/f8/e0/3d/9d0c2020c44a519b9f02ab4fa6d2a4a996c98d79ab2f569fa1\n",
            "  Building wheel for clang (setup.py) ... \u001b[?25l\u001b[?25hdone\n",
            "  Created wheel for clang: filename=clang-5.0-py3-none-any.whl size=30693 sha256=89c209d5a8fb5e3972340072efbd57e9fe87b26dec9f388e5f72e8df0ef44c59\n",
            "  Stored in directory: /root/.cache/pip/wheels/3a/ce/7a/27094f689461801c934296d07078773603663dfcaca63bb064\n",
            "  Building wheel for future (setup.py) ... \u001b[?25l\u001b[?25hdone\n",
            "  Created wheel for future: filename=future-0.18.3-py3-none-any.whl size=492037 sha256=c05e3b54c8d2cad426084b38e4beba4367a41f07b99b41e303cee8ac2a9da710\n",
            "  Stored in directory: /root/.cache/pip/wheels/bf/5d/6a/2e53874f7ec4e2bede522385439531fafec8fafe005b5c3d1b\n",
            "  Building wheel for termcolor (setup.py) ... \u001b[?25l\u001b[?25hdone\n",
            "  Created wheel for termcolor: filename=termcolor-1.1.0-py3-none-any.whl size=4846 sha256=76296bea2211d38543653e01f89955087f46cd2c1d1270465f07a75bbaaf631a\n",
            "  Stored in directory: /root/.cache/pip/wheels/b6/0d/90/0d1bbd99855f99cb2f6c2e5ff96f8023fad8ec367695f7d72d\n",
            "  Building wheel for wrapt (setup.py) ... \u001b[?25l\u001b[?25hdone\n",
            "  Created wheel for wrapt: filename=wrapt-1.12.1-cp39-cp39-linux_x86_64.whl size=75961 sha256=92d41e0c42054b17bd5c0cc90da69b81156c3d998ca8d87fc22a05344b11566c\n",
            "  Stored in directory: /root/.cache/pip/wheels/98/23/68/efe259aaca055e93b08e74fbe512819c69a2155c11ba3c0f10\n",
            "Successfully built sklearn clang future termcolor wrapt\n",
            "Installing collected packages: wrapt, typing-extensions, termcolor, sklearn, keras, flatbuffers, clang, setuptools, pyDeprecate, numpy, multidict, future, frozenlist, charset-normalizer, async-timeout, absl-py, yarl, torchmetrics, SoundFile, keras-preprocessing, aiosignal, wfdb, obspy, aiohttp, tensorflow, pytorch-lightning, tsfedl\n",
            "  Attempting uninstall: wrapt\n",
            "    Found existing installation: wrapt 1.15.0\n",
            "    Uninstalling wrapt-1.15.0:\n",
            "      Successfully uninstalled wrapt-1.15.0\n",
            "  Attempting uninstall: typing-extensions\n",
            "    Found existing installation: typing_extensions 4.5.0\n",
            "    Uninstalling typing_extensions-4.5.0:\n",
            "      Successfully uninstalled typing_extensions-4.5.0\n",
            "  Attempting uninstall: termcolor\n",
            "    Found existing installation: termcolor 2.2.0\n",
            "    Uninstalling termcolor-2.2.0:\n",
            "      Successfully uninstalled termcolor-2.2.0\n",
            "  Attempting uninstall: keras\n",
            "    Found existing installation: keras 2.11.0\n",
            "    Uninstalling keras-2.11.0:\n",
            "      Successfully uninstalled keras-2.11.0\n",
            "  Attempting uninstall: flatbuffers\n",
            "    Found existing installation: flatbuffers 23.3.3\n",
            "    Uninstalling flatbuffers-23.3.3:\n",
            "      Successfully uninstalled flatbuffers-23.3.3\n",
            "  Attempting uninstall: setuptools\n",
            "    Found existing installation: setuptools 63.4.3\n",
            "    Uninstalling setuptools-63.4.3:\n",
            "      Successfully uninstalled setuptools-63.4.3\n",
            "  Attempting uninstall: numpy\n",
            "    Found existing installation: numpy 1.22.4\n",
            "    Uninstalling numpy-1.22.4:\n",
            "      Successfully uninstalled numpy-1.22.4\n",
            "  Attempting uninstall: future\n",
            "    Found existing installation: future 0.16.0\n",
            "    Uninstalling future-0.16.0:\n",
            "      Successfully uninstalled future-0.16.0\n",
            "  Attempting uninstall: absl-py\n",
            "    Found existing installation: absl-py 1.4.0\n",
            "    Uninstalling absl-py-1.4.0:\n",
            "      Successfully uninstalled absl-py-1.4.0\n",
            "  Attempting uninstall: SoundFile\n",
            "    Found existing installation: soundfile 0.12.1\n",
            "    Uninstalling soundfile-0.12.1:\n",
            "      Successfully uninstalled soundfile-0.12.1\n",
            "  Attempting uninstall: tensorflow\n",
            "    Found existing installation: tensorflow 2.11.0\n",
            "    Uninstalling tensorflow-2.11.0:\n",
            "      Successfully uninstalled tensorflow-2.11.0\n",
            "\u001b[31mERROR: pip's dependency resolver does not currently take into account all the packages that are installed. This behaviour is the source of the following dependency conflicts.\n",
            "ipython 7.9.0 requires jedi>=0.10, which is not installed.\n",
            "xarray 2022.12.0 requires numpy>=1.20, but you have numpy 1.19.5 which is incompatible.\n",
            "xarray-einstats 0.5.1 requires numpy>=1.20, but you have numpy 1.19.5 which is incompatible.\n",
            "pydantic 1.10.6 requires typing-extensions>=4.2.0, but you have typing-extensions 3.7.4.3 which is incompatible.\n",
            "jaxlib 0.4.4+cuda11.cudnn82 requires numpy>=1.20, but you have numpy 1.19.5 which is incompatible.\n",
            "jax 0.4.4 requires numpy>=1.20, but you have numpy 1.19.5 which is incompatible.\n",
            "cupy-cuda11x 11.0.0 requires numpy<1.26,>=1.20, but you have numpy 1.19.5 which is incompatible.\n",
            "cmdstanpy 1.1.0 requires numpy>=1.21, but you have numpy 1.19.5 which is incompatible.\n",
            "bokeh 2.4.3 requires typing-extensions>=3.10.0, but you have typing-extensions 3.7.4.3 which is incompatible.\n",
            "arviz 0.15.1 requires numpy>=1.20.0, but you have numpy 1.19.5 which is incompatible.\n",
            "arviz 0.15.1 requires setuptools>=60.0.0, but you have setuptools 59.5.0 which is incompatible.\n",
            "arviz 0.15.1 requires typing-extensions>=4.1.0, but you have typing-extensions 3.7.4.3 which is incompatible.\u001b[0m\u001b[31m\n",
            "\u001b[0mSuccessfully installed SoundFile-0.11.0 absl-py-0.15.0 aiohttp-3.8.4 aiosignal-1.3.1 async-timeout-4.0.2 charset-normalizer-3.1.0 clang-5.0 flatbuffers-1.12 frozenlist-1.3.3 future-0.18.3 keras-2.6.0 keras-preprocessing-1.1.2 multidict-6.0.4 numpy-1.19.5 obspy-1.3.1 pyDeprecate-0.3.1 pytorch-lightning-1.5.10 setuptools-59.5.0 sklearn-0.0.post1 tensorflow-2.6.0 termcolor-1.1.0 torchmetrics-0.11.4 tsfedl-1.0.7.1 typing-extensions-3.7.4.3 wfdb-4.1.0 wrapt-1.12.1 yarl-1.8.2\n"
          ]
        }
      ]
    },
    {
      "cell_type": "code",
      "execution_count": null,
      "metadata": {
        "id": "dYqbvClcxvrf"
      },
      "outputs": [],
      "source": [
        "%%capture\n",
        "!wget -r -N -c -np https://physionet.org/files/mitdb/1.0.0/"
      ]
    },
    {
      "cell_type": "markdown",
      "source": [
        "En primer lugar tenemos que tomar los datos y formatealos para clasificación y detección de anomalías. Para ello lo que vamos a hacer es trocear la serie en segmentos de 1000 puntos. El objetivo es clasificar cada uno de estos segmentos de 1000 puntos, por lo que los datos serán segmentos temporales y las etiquetas un número del 0 al 4 que representa la clase."
      ],
      "metadata": {
        "id": "SmST1Q0xyeI3"
      }
    },
    {
      "cell_type": "code",
      "source": [
        "from typing import Optional, Tuple\n",
        "import os\n",
        "import wfdb\n",
        "import numpy as np\n",
        "from sklearn.preprocessing import LabelEncoder\n",
        "\n",
        "\n",
        "def get_segments(data: wfdb.Record,\n",
        "                 annotations: wfdb.Annotation,\n",
        "                 labels: np.ndarray,\n",
        "                 left_offset: int = 99,\n",
        "                 right_offset: int = 160,\n",
        "                 fixed_length: Optional[int] = None) -> Tuple[np.ndarray, np.ndarray]:\n",
        "    \"\"\" It generates the segments of uninterrupted sequences of arrythmia beats into the corresponding arrythmia groups\n",
        "    in labels.\n",
        "\n",
        "    :param data:            The arrythmia signal as a wfdb Record class\n",
        "    :param annotations:     The set of annotations as a wfdb Annotation class\n",
        "    :param labels:          The set of valid labels for the different segments. Segments with different labels are discarded\n",
        "    :param left_offset:     The number of instance at the left of the first R peak of the segment. Default to 99\n",
        "    :param right_offset:    The number of instances at the right of the last R peak of the segment. Default to 160\n",
        "    :param fixed_length:    Should the segments have a fixed length? If fixed_length is a number, then the segments will\n",
        "                            have the specified length. If the segment length is greater than fixed_length, it is truncated\n",
        "                            or padded with zeros otherwise. Default to None.\n",
        "\n",
        "    :return:                A tuple that contains the data and the associated labels. Data has a shape of (N, T, V)\n",
        "                            where N is the number of segments (or instances), V is the number of variables (1 in this case)\n",
        "                            and T is the number of timesteps of each segment.  Labels are numerically encoded according to the\n",
        "                            value passed in the :parameter labels param.\n",
        "    \"\"\"\n",
        "    i = 0\n",
        "    annot_segments = []\n",
        "\n",
        "    # Get the tuples for consecutive symbols. The tuple is (first, last, symbol) where first is the index of the first occurrence of symbol,\n",
        "    # and last is the index of the last consecutive ocurrence.\n",
        "    while(i < len(annotations.symbol)):\n",
        "        first = i\n",
        "        current_symbol = annotations.symbol[i]\n",
        "        while(i < len(annotations.symbol) and annotations.symbol[i] == current_symbol):\n",
        "            i += 1\n",
        "        last = i-1\n",
        "        tup = (first, last, current_symbol)\n",
        "        annot_segments.append(tup)\n",
        "\n",
        "    # Now, for each extracted tuple, get the X segments:\n",
        "    result = []\n",
        "    classes = []\n",
        "    for s in annot_segments:  # s is a tuple (first, last, symbol)\n",
        "        if s[2] in labels:\n",
        "            classes.append(s[2])\n",
        "            init = annotations.sample[s[0]] - left_offset\n",
        "            if init < 0:\n",
        "                init = 0\n",
        "\n",
        "            end = annotations.sample[s[1]] + right_offset\n",
        "            if end >= len(data.p_signal):\n",
        "                end = len(data.p_signal) - 1\n",
        "\n",
        "            r = range(init, end)\n",
        "\n",
        "            # Get the samples of the segments (p_signal is a 2D array, we only want the first axis)\n",
        "            new_segment = np.array(data.p_signal[r, 1], dtype='float32')\n",
        "\n",
        "            # truncate or pad with zeros the segment if necessary\n",
        "            if (fixed_length != None):\n",
        "                if (len(new_segment) > fixed_length):  # truncate\n",
        "                    new_segment = new_segment[:fixed_length]\n",
        "                elif (len(new_segment < fixed_length)):  # pad with zeros to the right\n",
        "                    number_of_zeros = fixed_length - len(new_segment)\n",
        "                    new_segment = np.pad(new_segment, (0, number_of_zeros), mode='constant', constant_values=0)\n",
        "\n",
        "            result.append(new_segment)\n",
        "\n",
        "    result = np.stack(result, axis=0)\n",
        "    result = np.reshape(result, (result.shape[0], result.shape[1], 1))  # shape[0] segments with 1 variable, with shape[1] timestamps each\n",
        "    classes = np.array(classes, dtype=str)\n",
        "\n",
        "    # Encode labels: from string to numeric.\n",
        "    label_encoder = LabelEncoder()\n",
        "    label_encoder.fit(labels)\n",
        "    classes = label_encoder.transform(classes)\n",
        "\n",
        "    return (result, classes)\n",
        "\n",
        "\n",
        "\n",
        "def read_MIT_BIH(path: str,\n",
        "                 labels: np.ndarray = np.array(['N','L','R','A','V']),\n",
        "                 left_offset: int = 99,\n",
        "                 right_offset: int = 160,\n",
        "                 fixed_length: Optional[int] = 1000) -> Tuple[np.ndarray, np.ndarray]:\n",
        "    \"\"\" It reads the MIT-BIH Arrythmia X with the specified default configuration of the work presented at:\n",
        "    Oh, Shu Lih, et al. \"Automated diagnosis of arrhythmia using combination of CNN and LSTM techniques with\n",
        "    variable length heart beats.\" Computers in biology and medicine 102 (2018): 278-287.\n",
        "\n",
        "    :param labels:              The labels of the different types of arrythmia to be employed\n",
        "    :param path:                The path of the directory where the X files are stored. Note: The X and annotations\n",
        "                                files must have the same name, but different extension (annotations must have .atr extension)\n",
        "    :param left_offset:         The number of instances at the left of the first R peak of the segment. Defaults to 99\n",
        "    :param right_offset:        The number of instances at the right of the last R peak of the segment. Defaults to 160\n",
        "    :param fixed_length:        If different to None, the segment will have the specified number of instances. Note that\n",
        "                                if the segment length > fixed_length it will be truncate or padded with zeros otherwise.\n",
        "\n",
        "    :return:                     A tuple that contains the data and the associated labels as an ndarray. Data has a shape of (N, T, V)\n",
        "                                where N is the number of segments (or instances), V is the number of variables (1 in this case)\n",
        "                                and T is the number of timesteps of each segment.  Labels are numerically encoded according to the\n",
        "                                value passed in the :parameter labels param.\n",
        "    \"\"\"\n",
        "    print(\"reading data...\")\n",
        "    segments = []\n",
        "    classes = []\n",
        "\n",
        "    files = [ file[:-4] for file in os.listdir(path) if file.endswith('.dat') ]\n",
        "    for f in files:\n",
        "        data = wfdb.rdrecord(path + f)\n",
        "        annotation = wfdb.rdann(path + f, 'atr')\n",
        "\n",
        "        s, clazz = get_segments(data=data,\n",
        "                                 annotations=annotation,\n",
        "                                 labels=labels,\n",
        "                                 left_offset=left_offset,\n",
        "                                 right_offset=right_offset,\n",
        "                                 fixed_length=fixed_length)\n",
        "\n",
        "        segments.append(s)\n",
        "        classes.append(clazz)\n",
        "\n",
        "    segments = np.vstack(segments)\n",
        "    classes = np.concatenate(classes)\n",
        "    print(\"done.\")\n",
        "\n",
        "    return (segments, classes)\n",
        "\n",
        "\n",
        "# Leemos los datos\n",
        "dir = \"physionet.org/files/mitdb/1.0.0/\"\n",
        "\n",
        "X_total, y_total = read_MIT_BIH(dir)\n",
        "# Nos quedamos solo con los 5000 primeros segmentos para que no consuma demasiado tiempo ni recursos.\n",
        "X = X_total[:5000]\n",
        "y = y_total[:5000]\n",
        "\n",
        "# mostramos la forma de los datos de entrada. En total tenemos 5000 series temporales \n",
        "# de 1 variable con 1000 instantes de tiempo cada una de ellas.\n",
        "# Cada serie temporal tiene únicamente 1 valor asociado o clase que determina el tipo de arritmia\n",
        "print(\"X shape: \", X.shape)\n",
        "print(\"y shape: \", y.shape)"
      ],
      "metadata": {
        "colab": {
          "base_uri": "https://localhost:8080/"
        },
        "id": "uGH-AlHsybXA",
        "outputId": "e566ac5e-5944-49b3-e0a5-a181f4cd727e"
      },
      "execution_count": null,
      "outputs": [
        {
          "output_type": "stream",
          "name": "stdout",
          "text": [
            "reading data...\n",
            "done.\n",
            "X shape:  (5000, 1000, 1)\n",
            "y shape:  (5000,)\n"
          ]
        }
      ]
    },
    {
      "cell_type": "markdown",
      "source": [
        "Vamos ahora a visualizar un segmento de cada tipo, donde la etiqueta 0 representa un latido normal y las etiquetas 1,2,3 y 4 representan un tipo de arritmia. Representaremos la serie temporal en azul y el número de la etiqueta tanto en el título como en el nombre del plot."
      ],
      "metadata": {
        "id": "8VX9dCbTQDaG"
      }
    },
    {
      "cell_type": "code",
      "source": [
        "ind_class_0 = np.where(y_total==0)[0][0]\n",
        "ind_class_1 = np.where(y_total==1)[0][0]\n",
        "ind_class_2 = np.where(y_total==2)[0][0]\n",
        "ind_class_3 = np.where(y_total==3)[0][0]\n",
        "ind_class_4 = np.where(y_total==4)[0][0]"
      ],
      "metadata": {
        "id": "zZbh2txNPYA2"
      },
      "execution_count": null,
      "outputs": []
    },
    {
      "cell_type": "code",
      "source": [
        "import matplotlib.pyplot as plt\n",
        "plt.plot(X_total[ind_class_0], color=\"blue\", label=\"Latido normal\")\n",
        "plt.title(\"Latido normal\")\n",
        "plt.legend()\n",
        "plt.show()"
      ],
      "metadata": {
        "colab": {
          "base_uri": "https://localhost:8080/",
          "height": 281
        },
        "id": "iZqmrzwpPhK2",
        "outputId": "7b0cdf93-8b39-4521-e210-7a56670b9689"
      },
      "execution_count": null,
      "outputs": [
        {
          "output_type": "display_data",
          "data": {
            "text/plain": [
              "<Figure size 432x288 with 1 Axes>"
            ],
            "image/png": "[encoded data removed]"
          },
          "metadata": {
            "needs_background": "light"
          }
        }
      ]
    },
    {
      "cell_type": "code",
      "source": [
        "plt.plot(X_total[ind_class_1], color=\"blue\", label=\"Arritmia 1\")\n",
        "plt.title(\"Arritmia 1\")\n",
        "plt.legend()\n",
        "plt.show()"
      ],
      "metadata": {
        "colab": {
          "base_uri": "https://localhost:8080/",
          "height": 281
        },
        "id": "uoNvsujRPxYG",
        "outputId": "dbdc33ed-149f-42cb-d3fb-ee6362ab0600"
      },
      "execution_count": null,
      "outputs": [
        {
          "output_type": "display_data",
          "data": {
            "text/plain": [
              "<Figure size 432x288 with 1 Axes>"
            ],
            "image/png": "[encoded data removed]"
          },
          "metadata": {
            "needs_background": "light"
          }
        }
      ]
    },
    {
      "cell_type": "code",
      "source": [
        "plt.plot(X_total[ind_class_2], color=\"blue\", label=\"Arritmia 2\")\n",
        "plt.title(\"Arritmia 2\")\n",
        "plt.legend()\n",
        "plt.show()"
      ],
      "metadata": {
        "colab": {
          "base_uri": "https://localhost:8080/",
          "height": 281
        },
        "id": "OX3DoAttP3kd",
        "outputId": "368838d1-d320-467a-cebf-754474d85c71"
      },
      "execution_count": null,
      "outputs": [
        {
          "output_type": "display_data",
          "data": {
            "text/plain": [
              "<Figure size 432x288 with 1 Axes>"
            ],
            "image/png": "[encoded data removed]"
          },
          "metadata": {
            "needs_background": "light"
          }
        }
      ]
    },
    {
      "cell_type": "code",
      "source": [
        "plt.plot(X_total[ind_class_3], color=\"blue\", label=\"Arritmia 3\")\n",
        "plt.title(\"Arritmia 3\")\n",
        "plt.legend()\n",
        "plt.show()"
      ],
      "metadata": {
        "colab": {
          "base_uri": "https://localhost:8080/",
          "height": 281
        },
        "id": "03Ll2XOxP6mW",
        "outputId": "fd53f9c7-f39a-49ee-b019-02f1343a2adc"
      },
      "execution_count": null,
      "outputs": [
        {
          "output_type": "display_data",
          "data": {
            "text/plain": [
              "<Figure size 432x288 with 1 Axes>"
            ],
            "image/png": "[encoded data removed]"
          },
          "metadata": {
            "needs_background": "light"
          }
        }
      ]
    },
    {
      "cell_type": "code",
      "source": [
        "plt.plot(X_total[ind_class_4], color=\"blue\", label=\"Arritmia 4\")\n",
        "plt.title(\"Arritmia 4\")\n",
        "plt.legend()\n",
        "plt.show()"
      ],
      "metadata": {
        "colab": {
          "base_uri": "https://localhost:8080/",
          "height": 281
        },
        "id": "iW8eDz5IP86t",
        "outputId": "0c2e971a-78f0-43fc-b211-baffa4d85a5f"
      },
      "execution_count": null,
      "outputs": [
        {
          "output_type": "display_data",
          "data": {
            "text/plain": [
              "<Figure size 432x288 with 1 Axes>"
            ],
            "image/png": "[encoded data removed]"
          },
          "metadata": {
            "needs_background": "light"
          }
        }
      ]
    },
    {
      "cell_type": "markdown",
      "source": [
        "Tras esta lectura tenemos una secuencia de 5000 segmentos con longitud 1000 cada uno de ellos. A continuación vamos a usar la librería TSFEDL para definir una red neuronal que nos ayude a clasificar los segmentos."
      ],
      "metadata": {
        "id": "RA6Yuk0v2RKC"
      }
    },
    {
      "cell_type": "code",
      "source": [
        "import keras\n",
        "from keras import layers\n",
        "import tensorflow as tf\n",
        "import sys\n",
        "from TSFEDL.models_keras import OhShuLih\n",
        "\n",
        "# Definimos nuestra capa de entrada\n",
        "# La entrada tiene que ser una matriz 3D de dimensiones:\n",
        "# [None, T, V].  La primera dimension, puesta a None, indica el nº de observaciones. Lo dejamos a None para indicar un número indefinido de observaciones.\n",
        "# T es el número de timesteps de cada serie temporal. En este ejemplo, 1000.\n",
        "# V es el nº de variables que conforman el problema. Este problema es univariable, por tanto V = 1\n",
        "input_layer = keras.Input(shape=(X.shape[1], X.shape[2]))\n",
        "\n",
        "# Definimos nuestro modelo OhShuLih:\n",
        "model_ = OhShuLih(input_tensor=input_layer, include_top=False)\n",
        "\n",
        "# Conectamos la capa de entrada al modelo OhShuLih mediante la API funcional de Keras:\n",
        "x = model_(input_layer)\n",
        "\n",
        "# Tras esto, siguiendo la API funcional, añadimos varias capas densas y una de salida softmax:\n",
        "# Siguiendo el paper de OhShuLih, tenemos 3 capas de 20, 10 y 5 units. La última es softmax:\n",
        "x = layers.Flatten()(x)\n",
        "x = layers.Dense(units=20, activation=tf.nn.relu, name=\"dense_1\")(x)\n",
        "x = layers.Dense(units=10, activation=tf.nn.relu, name=\"dense_2\")(x)\n",
        "# Esta capa produce como salida un vector de tamaño 5 con valores entre 0 y 1 que pueden ser considerados como probabilidades. La posición del vector con mayor probabilidad\n",
        "# se tomará como la clase predicha por el modelo\n",
        "output = layers.Dense(units=5, activation=tf.nn.softmax, name=\"output\")(x)\n",
        "\n",
        "# Finalmente, creamos el modelo definitivo:\n",
        "model = keras.Model(inputs=input_layer, outputs=output)\n",
        "\n",
        "model_.summary()\n",
        "model.summary()"
      ],
      "metadata": {
        "colab": {
          "base_uri": "https://localhost:8080/"
        },
        "id": "HAsQsiqb2d39",
        "outputId": "6914188f-55d7-4ffa-bdae-1a3efcb2091a"
      },
      "execution_count": null,
      "outputs": [
        {
          "output_type": "stream",
          "name": "stderr",
          "text": [
            "WARNING:tensorflow:Layer lstm will not use cuDNN kernels since it doesn't meet the criteria. It will use a generic GPU kernel as fallback when running on GPU.\n"
          ]
        },
        {
          "output_type": "stream",
          "name": "stdout",
          "text": [
            "Model: \"OhShuLih\"\n",
            "_________________________________________________________________\n",
            "Layer (type)                 Output Shape              Param #   \n",
            "=================================================================\n",
            "input_1 (InputLayer)         [(None, 1000, 1)]         0         \n",
            "_________________________________________________________________\n",
            "zero_padding1d (ZeroPadding1 (None, 1038, 1)           0         \n",
            "_________________________________________________________________\n",
            "conv1d (Conv1D)              (None, 1019, 3)           60        \n",
            "_________________________________________________________________\n",
            "max_pooling1d (MaxPooling1D) (None, 509, 3)            0         \n",
            "_________________________________________________________________\n",
            "zero_padding1d_1 (ZeroPaddin (None, 527, 3)            0         \n",
            "_________________________________________________________________\n",
            "conv1d_1 (Conv1D)            (None, 518, 6)            180       \n",
            "_________________________________________________________________\n",
            "max_pooling1d_1 (MaxPooling1 (None, 259, 6)            0         \n",
            "_________________________________________________________________\n",
            "zero_padding1d_2 (ZeroPaddin (None, 267, 6)            0         \n",
            "_________________________________________________________________\n",
            "conv1d_2 (Conv1D)            (None, 263, 6)            180       \n",
            "_________________________________________________________________\n",
            "max_pooling1d_2 (MaxPooling1 (None, 131, 6)            0         \n",
            "_________________________________________________________________\n",
            "lstm (LSTM)                  (None, 20)                2160      \n",
            "=================================================================\n",
            "Total params: 2,580\n",
            "Trainable params: 2,580\n",
            "Non-trainable params: 0\n",
            "_________________________________________________________________\n",
            "Model: \"model\"\n",
            "_________________________________________________________________\n",
            "Layer (type)                 Output Shape              Param #   \n",
            "=================================================================\n",
            "input_1 (InputLayer)         [(None, 1000, 1)]         0         \n",
            "_________________________________________________________________\n",
            "OhShuLih (Functional)        (None, 20)                2580      \n",
            "_________________________________________________________________\n",
            "flatten (Flatten)            (None, 20)                0         \n",
            "_________________________________________________________________\n",
            "dense_1 (Dense)              (None, 20)                420       \n",
            "_________________________________________________________________\n",
            "dense_2 (Dense)              (None, 10)                210       \n",
            "_________________________________________________________________\n",
            "output (Dense)               (None, 5)                 55        \n",
            "=================================================================\n",
            "Total params: 3,265\n",
            "Trainable params: 3,265\n",
            "Non-trainable params: 0\n",
            "_________________________________________________________________\n"
          ]
        }
      ]
    },
    {
      "cell_type": "markdown",
      "source": [
        "Con el anterior campo de código queda el modelo definido listo para entrenarlo. Como nuestro modelo tiene como salida una capa con 5 neuronas tenemos que convertir las etiquetas a un vector. Para hacer esto simplemente asociamos la etiqueta con la posición del vector, es decir, la etiqueta 0 se corresponde con [1,0,0,0,0], la etiqueta 1 con [0,1,0,0,0] y así sucesivamente."
      ],
      "metadata": {
        "id": "v-0o0R0B2lnu"
      }
    },
    {
      "cell_type": "code",
      "source": [
        "y_hot_encoded = np.zeros((y.size, y.max()+1))\n",
        "y_hot_encoded[np.arange(y.size), y] = 1\n",
        "y_hot_encoded"
      ],
      "metadata": {
        "colab": {
          "base_uri": "https://localhost:8080/"
        },
        "id": "73SH7VXg3AzY",
        "outputId": "7870dbb7-9ae4-4c32-f0e2-d687934b360e"
      },
      "execution_count": null,
      "outputs": [
        {
          "output_type": "execute_result",
          "data": {
            "text/plain": [
              "array([[0., 0., 0., 0., 1.],\n",
              "       [0., 0., 1., 0., 0.],\n",
              "       [0., 0., 0., 0., 1.],\n",
              "       ...,\n",
              "       [0., 0., 0., 0., 1.],\n",
              "       [0., 0., 1., 0., 0.],\n",
              "       [0., 0., 0., 0., 1.]])"
            ]
          },
          "metadata": {},
          "execution_count": 14
        }
      ]
    },
    {
      "cell_type": "markdown",
      "source": [
        "Ahora vamos a definir la compilación de nuestro modelo. Para ello vamos a utilizar el optimizador Adam, la función de pérdida categorical crossentropy y como métrica de entrenamiento el accuracy o porcentaje de acierto. Entrenaremos nuestro modelo usando lotes de 2048 segmentos durante 100 épocas. Es importante que antes de realizar el entrenamiento hagamos una división en train y test para poder separar los datos con los que obtenemos los resultados de los que empleamos para entrenar nuestro modelo. Emplearemos un 80% de los datos para entrenar y un 20% para comprobar nuestros resultados."
      ],
      "metadata": {
        "id": "06WfZsOF3FDo"
      }
    },
    {
      "cell_type": "code",
      "source": [
        "from sklearn.model_selection import train_test_split\n",
        "X_train, X_test, y_train, y_test = train_test_split(X, y_hot_encoded, test_size=0.2, random_state=123456789)"
      ],
      "metadata": {
        "id": "Mm4BVdgm3io3"
      },
      "execution_count": null,
      "outputs": []
    },
    {
      "cell_type": "code",
      "source": [
        "model.compile(optimizer=tf.keras.optimizers.Adam(),\n",
        "              loss=keras.losses.categorical_crossentropy,\n",
        "             metrics=[\"accuracy\"])\n",
        "\n",
        "history = model.fit(X_train, y_train, batch_size=2048, epochs=100, validation_split=0.1, workers=-1)\n",
        "                    #callbacks=[tf.keras.callbacks.EarlyStopping(patience=5, monitor=\"loss\")])"
      ],
      "metadata": {
        "colab": {
          "base_uri": "https://localhost:8080/"
        },
        "id": "CkTdFNbc33zV",
        "outputId": "8f4c4008-4a48-4c2e-d258-38d634e13fc7"
      },
      "execution_count": null,
      "outputs": [
        {
          "output_type": "stream",
          "name": "stdout",
          "text": [
            "Epoch 1/100\n",
            "2/2 [==============================] - 11s 1s/step - loss: 1.6064 - accuracy: 0.3336 - val_loss: 1.6016 - val_accuracy: 0.4825\n",
            "Epoch 2/100\n",
            "2/2 [==============================] - 2s 1s/step - loss: 1.5997 - accuracy: 0.4864 - val_loss: 1.5945 - val_accuracy: 0.4825\n",
            "Epoch 3/100\n",
            "2/2 [==============================] - 2s 1s/step - loss: 1.5922 - accuracy: 0.4864 - val_loss: 1.5869 - val_accuracy: 0.4825\n",
            "Epoch 4/100\n",
            "2/2 [==============================] - 1s 546ms/step - loss: 1.5842 - accuracy: 0.4864 - val_loss: 1.5787 - val_accuracy: 0.4825\n",
            "Epoch 5/100\n",
            "2/2 [==============================] - 1s 513ms/step - loss: 1.5754 - accuracy: 0.4864 - val_loss: 1.5696 - val_accuracy: 0.4825\n",
            "Epoch 6/100\n",
            "2/2 [==============================] - 1s 462ms/step - loss: 1.5659 - accuracy: 0.4864 - val_loss: 1.5596 - val_accuracy: 0.4825\n",
            "Epoch 7/100\n",
            "2/2 [==============================] - 1s 460ms/step - loss: 1.5552 - accuracy: 0.4864 - val_loss: 1.5485 - val_accuracy: 0.4825\n",
            "Epoch 8/100\n",
            "2/2 [==============================] - 1s 491ms/step - loss: 1.5433 - accuracy: 0.4864 - val_loss: 1.5359 - val_accuracy: 0.4825\n",
            "Epoch 9/100\n",
            "2/2 [==============================] - 1s 506ms/step - loss: 1.5299 - accuracy: 0.4864 - val_loss: 1.5215 - val_accuracy: 0.4825\n",
            "Epoch 10/100\n",
            "2/2 [==============================] - 1s 473ms/step - loss: 1.5143 - accuracy: 0.4864 - val_loss: 1.5047 - val_accuracy: 0.4825\n",
            "Epoch 11/100\n",
            "2/2 [==============================] - 1s 531ms/step - loss: 1.4964 - accuracy: 0.4864 - val_loss: 1.4849 - val_accuracy: 0.4825\n",
            "Epoch 12/100\n",
            "2/2 [==============================] - 1s 477ms/step - loss: 1.4750 - accuracy: 0.4864 - val_loss: 1.4610 - val_accuracy: 0.4825\n",
            "Epoch 13/100\n",
            "2/2 [==============================] - 1s 503ms/step - loss: 1.4492 - accuracy: 0.4864 - val_loss: 1.4323 - val_accuracy: 0.4825\n",
            "Epoch 14/100\n",
            "2/2 [==============================] - 1s 590ms/step - loss: 1.4180 - accuracy: 0.4864 - val_loss: 1.3967 - val_accuracy: 0.4825\n",
            "Epoch 15/100\n",
            "2/2 [==============================] - 2s 1s/step - loss: 1.3794 - accuracy: 0.4864 - val_loss: 1.3520 - val_accuracy: 0.4825\n",
            "Epoch 16/100\n",
            "2/2 [==============================] - 3s 1s/step - loss: 1.3308 - accuracy: 0.4864 - val_loss: 1.2958 - val_accuracy: 0.4825\n",
            "Epoch 17/100\n",
            "2/2 [==============================] - 1s 480ms/step - loss: 1.2713 - accuracy: 0.4864 - val_loss: 1.2383 - val_accuracy: 0.4825\n",
            "Epoch 18/100\n",
            "2/2 [==============================] - 1s 525ms/step - loss: 1.2151 - accuracy: 0.4864 - val_loss: 1.2020 - val_accuracy: 0.4825\n",
            "Epoch 19/100\n",
            "2/2 [==============================] - 1s 493ms/step - loss: 1.1764 - accuracy: 0.4864 - val_loss: 1.1851 - val_accuracy: 0.4825\n",
            "Epoch 20/100\n",
            "2/2 [==============================] - 1s 513ms/step - loss: 1.1566 - accuracy: 0.4864 - val_loss: 1.1740 - val_accuracy: 0.4825\n",
            "Epoch 21/100\n",
            "2/2 [==============================] - 1s 574ms/step - loss: 1.1370 - accuracy: 0.4864 - val_loss: 1.1632 - val_accuracy: 0.4825\n",
            "Epoch 22/100\n",
            "2/2 [==============================] - 1s 487ms/step - loss: 1.1235 - accuracy: 0.4864 - val_loss: 1.1563 - val_accuracy: 0.4825\n",
            "Epoch 23/100\n",
            "2/2 [==============================] - 1s 483ms/step - loss: 1.1140 - accuracy: 0.4867 - val_loss: 1.1524 - val_accuracy: 0.4825\n",
            "Epoch 24/100\n",
            "2/2 [==============================] - 1s 547ms/step - loss: 1.1082 - accuracy: 0.5086 - val_loss: 1.1459 - val_accuracy: 0.5275\n",
            "Epoch 25/100\n",
            "2/2 [==============================] - 1s 529ms/step - loss: 1.0999 - accuracy: 0.5303 - val_loss: 1.1343 - val_accuracy: 0.5275\n",
            "Epoch 26/100\n",
            "2/2 [==============================] - 1s 507ms/step - loss: 1.0881 - accuracy: 0.5331 - val_loss: 1.1205 - val_accuracy: 0.4825\n",
            "Epoch 27/100\n",
            "2/2 [==============================] - 1s 900ms/step - loss: 1.0779 - accuracy: 0.4900 - val_loss: 1.1088 - val_accuracy: 0.4825\n",
            "Epoch 28/100\n",
            "2/2 [==============================] - 2s 1s/step - loss: 1.0671 - accuracy: 0.4861 - val_loss: 1.0989 - val_accuracy: 0.4825\n",
            "Epoch 29/100\n",
            "2/2 [==============================] - 2s 1s/step - loss: 1.0597 - accuracy: 0.4864 - val_loss: 1.0891 - val_accuracy: 0.4825\n",
            "Epoch 30/100\n",
            "2/2 [==============================] - 1s 530ms/step - loss: 1.0526 - accuracy: 0.4864 - val_loss: 1.0800 - val_accuracy: 0.4825\n",
            "Epoch 31/100\n",
            "2/2 [==============================] - 1s 500ms/step - loss: 1.0442 - accuracy: 0.4864 - val_loss: 1.0712 - val_accuracy: 0.4825\n",
            "Epoch 32/100\n",
            "2/2 [==============================] - 1s 470ms/step - loss: 1.0359 - accuracy: 0.4864 - val_loss: 1.0620 - val_accuracy: 0.4825\n",
            "Epoch 33/100\n",
            "2/2 [==============================] - 1s 487ms/step - loss: 1.0273 - accuracy: 0.4864 - val_loss: 1.0526 - val_accuracy: 0.4825\n",
            "Epoch 34/100\n",
            "2/2 [==============================] - 1s 476ms/step - loss: 1.0188 - accuracy: 0.4864 - val_loss: 1.0433 - val_accuracy: 0.4825\n",
            "Epoch 35/100\n",
            "2/2 [==============================] - 1s 462ms/step - loss: 1.0095 - accuracy: 0.4894 - val_loss: 1.0349 - val_accuracy: 0.4825\n",
            "Epoch 36/100\n",
            "2/2 [==============================] - 1s 472ms/step - loss: 1.0024 - accuracy: 0.4883 - val_loss: 1.0270 - val_accuracy: 0.4825\n",
            "Epoch 37/100\n",
            "2/2 [==============================] - 1s 472ms/step - loss: 0.9936 - accuracy: 0.5058 - val_loss: 1.0197 - val_accuracy: 0.4825\n",
            "Epoch 38/100\n",
            "2/2 [==============================] - 1s 482ms/step - loss: 0.9847 - accuracy: 0.5200 - val_loss: 1.0133 - val_accuracy: 0.5375\n",
            "Epoch 39/100\n",
            "2/2 [==============================] - 1s 502ms/step - loss: 0.9764 - accuracy: 0.5592 - val_loss: 1.0067 - val_accuracy: 0.5375\n",
            "Epoch 40/100\n",
            "2/2 [==============================] - 1s 835ms/step - loss: 0.9700 - accuracy: 0.5525 - val_loss: 1.0003 - val_accuracy: 0.5400\n",
            "Epoch 41/100\n",
            "2/2 [==============================] - 2s 1s/step - loss: 0.9608 - accuracy: 0.5642 - val_loss: 0.9912 - val_accuracy: 0.5525\n",
            "Epoch 42/100\n",
            "2/2 [==============================] - 2s 1s/step - loss: 0.9536 - accuracy: 0.5672 - val_loss: 0.9826 - val_accuracy: 0.5650\n",
            "Epoch 43/100\n",
            "2/2 [==============================] - 1s 469ms/step - loss: 0.9439 - accuracy: 0.5767 - val_loss: 0.9736 - val_accuracy: 0.5675\n",
            "Epoch 44/100\n",
            "2/2 [==============================] - 2s 956ms/step - loss: 0.9357 - accuracy: 0.5875 - val_loss: 0.9649 - val_accuracy: 0.5725\n",
            "Epoch 45/100\n",
            "2/2 [==============================] - 1s 502ms/step - loss: 0.9289 - accuracy: 0.5986 - val_loss: 0.9584 - val_accuracy: 0.5700\n",
            "Epoch 46/100\n",
            "2/2 [==============================] - 1s 488ms/step - loss: 0.9202 - accuracy: 0.5975 - val_loss: 0.9531 - val_accuracy: 0.5725\n",
            "Epoch 47/100\n",
            "2/2 [==============================] - 1s 591ms/step - loss: 0.9129 - accuracy: 0.6033 - val_loss: 0.9430 - val_accuracy: 0.6000\n",
            "Epoch 48/100\n",
            "2/2 [==============================] - 1s 533ms/step - loss: 0.9109 - accuracy: 0.5972 - val_loss: 0.9413 - val_accuracy: 0.5775\n",
            "Epoch 49/100\n",
            "2/2 [==============================] - 1s 496ms/step - loss: 0.9012 - accuracy: 0.6081 - val_loss: 0.9316 - val_accuracy: 0.6050\n",
            "Epoch 50/100\n",
            "2/2 [==============================] - 1s 489ms/step - loss: 0.8970 - accuracy: 0.6031 - val_loss: 0.9366 - val_accuracy: 0.5625\n",
            "Epoch 51/100\n",
            "2/2 [==============================] - 1s 482ms/step - loss: 0.8950 - accuracy: 0.6036 - val_loss: 0.9303 - val_accuracy: 0.5650\n",
            "Epoch 52/100\n",
            "2/2 [==============================] - 1s 564ms/step - loss: 0.8907 - accuracy: 0.6081 - val_loss: 0.9226 - val_accuracy: 0.6050\n",
            "Epoch 53/100\n",
            "2/2 [==============================] - 2s 1s/step - loss: 0.8867 - accuracy: 0.6108 - val_loss: 0.9226 - val_accuracy: 0.5800\n",
            "Epoch 54/100\n",
            "2/2 [==============================] - 2s 1s/step - loss: 0.8887 - accuracy: 0.5972 - val_loss: 0.9268 - val_accuracy: 0.5675\n",
            "Epoch 55/100\n",
            "2/2 [==============================] - 2s 503ms/step - loss: 0.8834 - accuracy: 0.6017 - val_loss: 0.9169 - val_accuracy: 0.5850\n",
            "Epoch 56/100\n",
            "2/2 [==============================] - 1s 497ms/step - loss: 0.8757 - accuracy: 0.6108 - val_loss: 0.9129 - val_accuracy: 0.6050\n",
            "Epoch 57/100\n",
            "2/2 [==============================] - 1s 536ms/step - loss: 0.8709 - accuracy: 0.6153 - val_loss: 0.9125 - val_accuracy: 0.5875\n",
            "Epoch 58/100\n",
            "2/2 [==============================] - 1s 563ms/step - loss: 0.8747 - accuracy: 0.6094 - val_loss: 0.9119 - val_accuracy: 0.5875\n",
            "Epoch 59/100\n",
            "2/2 [==============================] - 1s 527ms/step - loss: 0.8703 - accuracy: 0.6111 - val_loss: 0.9066 - val_accuracy: 0.6050\n",
            "Epoch 60/100\n",
            "2/2 [==============================] - 1s 478ms/step - loss: 0.8701 - accuracy: 0.6147 - val_loss: 0.9046 - val_accuracy: 0.6050\n",
            "Epoch 61/100\n",
            "2/2 [==============================] - 1s 486ms/step - loss: 0.8694 - accuracy: 0.6125 - val_loss: 0.9074 - val_accuracy: 0.5850\n",
            "Epoch 62/100\n",
            "2/2 [==============================] - 1s 558ms/step - loss: 0.8659 - accuracy: 0.6158 - val_loss: 0.9003 - val_accuracy: 0.6050\n",
            "Epoch 63/100\n",
            "2/2 [==============================] - 1s 541ms/step - loss: 0.8635 - accuracy: 0.6214 - val_loss: 0.8983 - val_accuracy: 0.6050\n",
            "Epoch 64/100\n",
            "2/2 [==============================] - 1s 561ms/step - loss: 0.8641 - accuracy: 0.6233 - val_loss: 0.8961 - val_accuracy: 0.6075\n",
            "Epoch 65/100\n",
            "2/2 [==============================] - 2s 1s/step - loss: 0.8611 - accuracy: 0.6211 - val_loss: 0.8937 - val_accuracy: 0.6050\n",
            "Epoch 66/100\n",
            "2/2 [==============================] - 3s 1s/step - loss: 0.8533 - accuracy: 0.6278 - val_loss: 0.8922 - val_accuracy: 0.6050\n",
            "Epoch 67/100\n",
            "2/2 [==============================] - 2s 1s/step - loss: 0.8550 - accuracy: 0.6242 - val_loss: 0.8893 - val_accuracy: 0.6050\n",
            "Epoch 68/100\n",
            "2/2 [==============================] - 1s 535ms/step - loss: 0.8516 - accuracy: 0.6267 - val_loss: 0.8865 - val_accuracy: 0.6050\n",
            "Epoch 69/100\n",
            "2/2 [==============================] - 1s 490ms/step - loss: 0.8532 - accuracy: 0.6247 - val_loss: 0.8840 - val_accuracy: 0.6100\n",
            "Epoch 70/100\n",
            "2/2 [==============================] - 1s 484ms/step - loss: 0.8490 - accuracy: 0.6244 - val_loss: 0.8812 - val_accuracy: 0.6050\n",
            "Epoch 71/100\n",
            "2/2 [==============================] - 1s 551ms/step - loss: 0.8463 - accuracy: 0.6308 - val_loss: 0.8787 - val_accuracy: 0.6050\n",
            "Epoch 72/100\n",
            "2/2 [==============================] - 1s 536ms/step - loss: 0.8442 - accuracy: 0.6322 - val_loss: 0.8763 - val_accuracy: 0.6050\n",
            "Epoch 73/100\n",
            "2/2 [==============================] - 1s 490ms/step - loss: 0.8443 - accuracy: 0.6325 - val_loss: 0.8728 - val_accuracy: 0.6075\n",
            "Epoch 74/100\n",
            "2/2 [==============================] - 1s 515ms/step - loss: 0.8412 - accuracy: 0.6361 - val_loss: 0.8699 - val_accuracy: 0.6125\n",
            "Epoch 75/100\n",
            "2/2 [==============================] - 1s 479ms/step - loss: 0.8434 - accuracy: 0.6322 - val_loss: 0.8681 - val_accuracy: 0.6075\n",
            "Epoch 76/100\n",
            "2/2 [==============================] - 1s 511ms/step - loss: 0.8387 - accuracy: 0.6383 - val_loss: 0.8657 - val_accuracy: 0.6100\n",
            "Epoch 77/100\n",
            "2/2 [==============================] - 1s 500ms/step - loss: 0.8347 - accuracy: 0.6414 - val_loss: 0.8617 - val_accuracy: 0.6075\n",
            "Epoch 78/100\n",
            "2/2 [==============================] - 2s 1s/step - loss: 0.8312 - accuracy: 0.6406 - val_loss: 0.8609 - val_accuracy: 0.6100\n",
            "Epoch 79/100\n",
            "2/2 [==============================] - 2s 1s/step - loss: 0.8256 - accuracy: 0.6444 - val_loss: 0.8535 - val_accuracy: 0.6125\n",
            "Epoch 80/100\n",
            "2/2 [==============================] - 2s 789ms/step - loss: 0.8275 - accuracy: 0.6439 - val_loss: 0.8509 - val_accuracy: 0.6100\n",
            "Epoch 81/100\n",
            "2/2 [==============================] - 1s 497ms/step - loss: 0.8249 - accuracy: 0.6461 - val_loss: 0.8474 - val_accuracy: 0.6225\n",
            "Epoch 82/100\n",
            "2/2 [==============================] - 1s 464ms/step - loss: 0.8208 - accuracy: 0.6475 - val_loss: 0.8452 - val_accuracy: 0.6200\n",
            "Epoch 83/100\n",
            "2/2 [==============================] - 1s 479ms/step - loss: 0.8204 - accuracy: 0.6486 - val_loss: 0.8443 - val_accuracy: 0.6175\n",
            "Epoch 84/100\n",
            "2/2 [==============================] - 1s 469ms/step - loss: 0.8166 - accuracy: 0.6497 - val_loss: 0.8394 - val_accuracy: 0.6275\n",
            "Epoch 85/100\n",
            "2/2 [==============================] - 1s 500ms/step - loss: 0.8111 - accuracy: 0.6508 - val_loss: 0.8364 - val_accuracy: 0.6375\n",
            "Epoch 86/100\n",
            "2/2 [==============================] - 1s 511ms/step - loss: 0.8156 - accuracy: 0.6489 - val_loss: 0.8347 - val_accuracy: 0.6375\n",
            "Epoch 87/100\n",
            "2/2 [==============================] - 1s 583ms/step - loss: 0.8120 - accuracy: 0.6517 - val_loss: 0.8366 - val_accuracy: 0.6275\n",
            "Epoch 88/100\n",
            "2/2 [==============================] - 1s 521ms/step - loss: 0.8105 - accuracy: 0.6472 - val_loss: 0.8310 - val_accuracy: 0.6400\n",
            "Epoch 89/100\n",
            "2/2 [==============================] - 1s 498ms/step - loss: 0.8050 - accuracy: 0.6528 - val_loss: 0.8292 - val_accuracy: 0.6425\n",
            "Epoch 90/100\n",
            "2/2 [==============================] - 1s 693ms/step - loss: 0.8057 - accuracy: 0.6539 - val_loss: 0.8282 - val_accuracy: 0.6400\n",
            "Epoch 91/100\n",
            "2/2 [==============================] - 2s 1s/step - loss: 0.8092 - accuracy: 0.6528 - val_loss: 0.8274 - val_accuracy: 0.6350\n",
            "Epoch 92/100\n",
            "2/2 [==============================] - 2s 1s/step - loss: 0.8041 - accuracy: 0.6572 - val_loss: 0.8243 - val_accuracy: 0.6425\n",
            "Epoch 93/100\n",
            "2/2 [==============================] - 2s 501ms/step - loss: 0.7996 - accuracy: 0.6611 - val_loss: 0.8201 - val_accuracy: 0.6350\n",
            "Epoch 94/100\n",
            "2/2 [==============================] - 1s 497ms/step - loss: 0.7937 - accuracy: 0.6642 - val_loss: 0.8087 - val_accuracy: 0.6675\n",
            "Epoch 95/100\n",
            "2/2 [==============================] - 1s 484ms/step - loss: 0.7906 - accuracy: 0.6694 - val_loss: 0.7884 - val_accuracy: 0.6800\n",
            "Epoch 96/100\n",
            "2/2 [==============================] - 1s 797ms/step - loss: 0.7790 - accuracy: 0.6914 - val_loss: 0.7760 - val_accuracy: 0.6875\n",
            "Epoch 97/100\n",
            "2/2 [==============================] - 2s 1s/step - loss: 0.7659 - accuracy: 0.7044 - val_loss: 0.7685 - val_accuracy: 0.7000\n",
            "Epoch 98/100\n",
            "2/2 [==============================] - 1s 497ms/step - loss: 0.7653 - accuracy: 0.7069 - val_loss: 0.7591 - val_accuracy: 0.7250\n",
            "Epoch 99/100\n",
            "2/2 [==============================] - 1s 458ms/step - loss: 0.7570 - accuracy: 0.7156 - val_loss: 0.7639 - val_accuracy: 0.7150\n",
            "Epoch 100/100\n",
            "2/2 [==============================] - 1s 507ms/step - loss: 0.7527 - accuracy: 0.7208 - val_loss: 0.7521 - val_accuracy: 0.7325\n"
          ]
        }
      ]
    },
    {
      "cell_type": "markdown",
      "source": [
        "Ahora comprobaremos los resultados obtenidos. Para ello lo que vamos a hacer es predecir con nuestra red sobre el conjunto de test. Tras esto emplearemos la función de sklearn accuracy_score para calcular el porcentaje de acierto obtenido."
      ],
      "metadata": {
        "id": "7Pw2vKB33-4R"
      }
    },
    {
      "cell_type": "code",
      "source": [
        "from sklearn.metrics import accuracy_score\n",
        "\n",
        "# Predecimos con nuestra red, la salida será un vector de tamaño 5 para cada segmento.\n",
        "pred = model.predict(X_test)\n",
        "# Con la función argmax nos quedamos con el índice con mayor valor de la predicción, es decir, la clase.\n",
        "pred_argmax = np.argmax(pred,axis=1)\n",
        "y_test_argmax = np.argmax(y_test, axis=1)\n",
        "# Obtenemos el accuracy.\n",
        "acc = accuracy_score(y_test_argmax,pred_argmax)\n",
        "\n",
        "print(\"Accuracy: \" + str(acc))"
      ],
      "metadata": {
        "colab": {
          "base_uri": "https://localhost:8080/"
        },
        "id": "ZkBqssw25Oj9",
        "outputId": "f68c002f-af16-4af7-9f5e-f6c21dbd4f0a"
      },
      "execution_count": null,
      "outputs": [
        {
          "output_type": "stream",
          "name": "stdout",
          "text": [
            "Accuracy: 0.764\n"
          ]
        }
      ]
    },
    {
      "cell_type": "markdown",
      "source": [
        "# Detección de anomalías usando un autoencoder"
      ],
      "metadata": {
        "id": "_q3FgpqZ-far"
      }
    },
    {
      "cell_type": "markdown",
      "source": [
        "Ahora vamos a abordar el mismo problema pero desde otra perspectiva: la detección de anomalías. Para ello vamos a tomar cada uno de los segmentos y vamos a entrenar un autoencoder. El objetivo va a ser diferenciar la clase \"N\" (identificada con el número 0), es decir latido normal, del resto que implican una arritmia. Para ello vamos a tomar del conjunto de datos original 5000 segmentos de train. Eliminaremos las secuencias que tengan una arritmia y entrenaremos con el resto. Después tomaremos las siguientes 1000 secuencias y evaluaremos."
      ],
      "metadata": {
        "id": "Bh51mqnd-jiK"
      }
    },
    {
      "cell_type": "code",
      "source": [
        "X, y = read_MIT_BIH(dir)"
      ],
      "metadata": {
        "colab": {
          "base_uri": "https://localhost:8080/"
        },
        "id": "b6dQBHqX-ifZ",
        "outputId": "c08544ff-3403-477d-f7d1-884b744adca3"
      },
      "execution_count": null,
      "outputs": [
        {
          "output_type": "stream",
          "name": "stdout",
          "text": [
            "reading data...\n",
            "done.\n"
          ]
        }
      ]
    },
    {
      "cell_type": "code",
      "source": [
        "X_train = X[:5000]\n",
        "y_train = y[:5000]\n",
        "X_test = X[5000:6000]\n",
        "y_test = y[5000:6000]"
      ],
      "metadata": {
        "id": "LZO-OhqFAVmB"
      },
      "execution_count": null,
      "outputs": []
    },
    {
      "cell_type": "code",
      "source": [
        "X_train = X_train[y_train==0]"
      ],
      "metadata": {
        "id": "WaxYuO3-CqAd"
      },
      "execution_count": null,
      "outputs": []
    },
    {
      "cell_type": "markdown",
      "source": [
        "Debemos tener en cuenta que no hay muchos datos para poder entrenar este tipo de red, por lo que los resultados estarán limitados por la disponibilidad de datos. A mayor arquitectura de red más datos necesitamos para obtener información."
      ],
      "metadata": {
        "id": "CLBEVYR0qUjF"
      }
    },
    {
      "cell_type": "code",
      "source": [
        "print(len(X_train))"
      ],
      "metadata": {
        "colab": {
          "base_uri": "https://localhost:8080/"
        },
        "id": "1cTsSKy2qROx",
        "outputId": "2ae38968-947f-4950-fcf8-704dc18fa910"
      },
      "execution_count": null,
      "outputs": [
        {
          "output_type": "stream",
          "name": "stdout",
          "text": [
            "275\n"
          ]
        }
      ]
    },
    {
      "cell_type": "markdown",
      "source": [
        "Ahora vamos a definir el modelo autoencoder a emplear y ajustar las dimensiones de entrada y salida del mismo a nuestros datos."
      ],
      "metadata": {
        "id": "YuBxt8xMBJTn"
      }
    },
    {
      "cell_type": "code",
      "source": [
        "from TSFEDL.models_keras import YildirimOzal\n",
        "\n",
        "# Tomamos como dimensiones de nuevo las mismas que en el modelo anterior\n",
        "input_layer = keras.Input(shape=(X.shape[1], X.shape[2]))\n",
        "\n",
        "# Definimos nuestro modelo YildirimOzal. Cabe destacar que esta función devuelve 3 modelos. En primer lugar el modelo autoencoder (el que nos interesa) que se encarga de\n",
        "# llevar los datos originales a una dimensionalidad reducida y devolverlos a su dimensión original, el modelo encoder que sólo lleva a la dimensión reducida y por \n",
        "# último el modelo decoder que lleva desde la dimensión reducida a la dimensión original reconstruida. En este caso sólo queremos el modelo autoencoder y por tanto señalamos\n",
        "# los campos que vamos a descatar con un guión bajo\n",
        "model, _, _ = YildirimOzal(input_tensor=input_layer, include_top=False)\n",
        "\n",
        "model.summary()"
      ],
      "metadata": {
        "colab": {
          "base_uri": "https://localhost:8080/"
        },
        "id": "ttVxZmvnAk0_",
        "outputId": "04a8ecdc-1d9b-43b2-8838-ba53bed4b5fc"
      },
      "execution_count": null,
      "outputs": [
        {
          "output_type": "stream",
          "name": "stdout",
          "text": [
            "Model: \"YildirimOzal_autoencoder\"\n",
            "_________________________________________________________________\n",
            "Layer (type)                 Output Shape              Param #   \n",
            "=================================================================\n",
            "input_2 (InputLayer)         [(None, 1000, 1)]         0         \n",
            "_________________________________________________________________\n",
            "conv1d_3 (Conv1D)            (None, 1000, 16)          96        \n",
            "_________________________________________________________________\n",
            "max_pooling1d_3 (MaxPooling1 (None, 500, 16)           0         \n",
            "_________________________________________________________________\n",
            "conv1d_4 (Conv1D)            (None, 500, 64)           5184      \n",
            "_________________________________________________________________\n",
            "batch_normalization (BatchNo (None, 500, 64)           256       \n",
            "_________________________________________________________________\n",
            "max_pooling1d_4 (MaxPooling1 (None, 250, 64)           0         \n",
            "_________________________________________________________________\n",
            "conv1d_5 (Conv1D)            (None, 250, 32)           6176      \n",
            "_________________________________________________________________\n",
            "conv1d_6 (Conv1D)            (None, 250, 1)            97        \n",
            "_________________________________________________________________\n",
            "max_pooling1d_5 (MaxPooling1 (None, 125, 1)            0         \n",
            "_________________________________________________________________\n",
            "conv1d_7 (Conv1D)            (None, 125, 1)            4         \n",
            "_________________________________________________________________\n",
            "conv1d_8 (Conv1D)            (None, 125, 32)           128       \n",
            "_________________________________________________________________\n",
            "up_sampling1d (UpSampling1D) (None, 250, 32)           0         \n",
            "_________________________________________________________________\n",
            "conv1d_9 (Conv1D)            (None, 250, 64)           10304     \n",
            "_________________________________________________________________\n",
            "up_sampling1d_1 (UpSampling1 (None, 500, 64)           0         \n",
            "_________________________________________________________________\n",
            "conv1d_10 (Conv1D)           (None, 500, 16)           5136      \n",
            "_________________________________________________________________\n",
            "flatten_1 (Flatten)          (None, 8000)              0         \n",
            "_________________________________________________________________\n",
            "dense (Dense)                (None, 1000)              8001000   \n",
            "=================================================================\n",
            "Total params: 8,028,381\n",
            "Trainable params: 8,028,253\n",
            "Non-trainable params: 128\n",
            "_________________________________________________________________\n"
          ]
        }
      ]
    },
    {
      "cell_type": "markdown",
      "source": [
        "Ahora vamos a entrenar nuestro modelo con las secuencias normales. Emplearemos 100 épocas con lotes de segmentos de 128. Ahora debemos poner en fit el dataset de partida X_train y el dataset destino X_train de nuevo. De esta forma el modelo aprenderá cómo reconstruir X_train a partir de si mismo reduciendo la dimensionalidad."
      ],
      "metadata": {
        "id": "Dxcl6DrzCGxr"
      }
    },
    {
      "cell_type": "code",
      "source": [
        "model.compile(optimizer=tf.keras.optimizers.Adam(),\n",
        "              loss=keras.losses.mean_squared_error)\n",
        "\n",
        "history = model.fit(X_train, X_train, batch_size=128, epochs=100, validation_split=0.1, \n",
        "                    callbacks=[tf.keras.callbacks.EarlyStopping(patience=5, monitor=\"loss\")])"
      ],
      "metadata": {
        "colab": {
          "base_uri": "https://localhost:8080/"
        },
        "id": "-gZQxVe2CKAb",
        "outputId": "acb21ace-b305-4a4a-af2c-85b802f55880"
      },
      "execution_count": null,
      "outputs": [
        {
          "output_type": "stream",
          "name": "stdout",
          "text": [
            "Epoch 1/100\n",
            "2/2 [==============================] - 2s 254ms/step - loss: 0.0391 - val_loss: 0.0514\n",
            "Epoch 2/100\n",
            "2/2 [==============================] - 0s 47ms/step - loss: 0.0386 - val_loss: 0.0516\n",
            "Epoch 3/100\n",
            "2/2 [==============================] - 0s 52ms/step - loss: 0.0392 - val_loss: 0.0515\n",
            "Epoch 4/100\n",
            "2/2 [==============================] - 0s 47ms/step - loss: 0.0386 - val_loss: 0.0514\n",
            "Epoch 5/100\n",
            "2/2 [==============================] - 0s 41ms/step - loss: 0.0388 - val_loss: 0.0513\n",
            "Epoch 6/100\n",
            "2/2 [==============================] - 0s 41ms/step - loss: 0.0387 - val_loss: 0.0514\n",
            "Epoch 7/100\n",
            "2/2 [==============================] - 0s 39ms/step - loss: 0.0385 - val_loss: 0.0515\n",
            "Epoch 8/100\n",
            "2/2 [==============================] - 0s 43ms/step - loss: 0.0387 - val_loss: 0.0515\n",
            "Epoch 9/100\n",
            "2/2 [==============================] - 0s 45ms/step - loss: 0.0386 - val_loss: 0.0514\n",
            "Epoch 10/100\n",
            "2/2 [==============================] - 0s 37ms/step - loss: 0.0385 - val_loss: 0.0514\n",
            "Epoch 11/100\n",
            "2/2 [==============================] - 0s 36ms/step - loss: 0.0386 - val_loss: 0.0514\n",
            "Epoch 12/100\n",
            "2/2 [==============================] - 0s 37ms/step - loss: 0.0385 - val_loss: 0.0514\n",
            "Epoch 13/100\n",
            "2/2 [==============================] - 0s 35ms/step - loss: 0.0385 - val_loss: 0.0514\n",
            "Epoch 14/100\n",
            "2/2 [==============================] - 0s 46ms/step - loss: 0.0385 - val_loss: 0.0513\n",
            "Epoch 15/100\n",
            "2/2 [==============================] - 0s 37ms/step - loss: 0.0384 - val_loss: 0.0513\n",
            "Epoch 16/100\n",
            "2/2 [==============================] - 0s 54ms/step - loss: 0.0385 - val_loss: 0.0513\n",
            "Epoch 17/100\n",
            "2/2 [==============================] - 0s 37ms/step - loss: 0.0384 - val_loss: 0.0513\n",
            "Epoch 18/100\n",
            "2/2 [==============================] - 0s 37ms/step - loss: 0.0384 - val_loss: 0.0513\n",
            "Epoch 19/100\n",
            "2/2 [==============================] - 0s 37ms/step - loss: 0.0384 - val_loss: 0.0513\n",
            "Epoch 20/100\n",
            "2/2 [==============================] - 0s 41ms/step - loss: 0.0384 - val_loss: 0.0513\n",
            "Epoch 21/100\n",
            "2/2 [==============================] - 0s 35ms/step - loss: 0.0384 - val_loss: 0.0513\n",
            "Epoch 22/100\n",
            "2/2 [==============================] - 0s 36ms/step - loss: 0.0384 - val_loss: 0.0513\n",
            "Epoch 23/100\n",
            "2/2 [==============================] - 0s 37ms/step - loss: 0.0384 - val_loss: 0.0513\n",
            "Epoch 24/100\n",
            "2/2 [==============================] - 0s 38ms/step - loss: 0.0384 - val_loss: 0.0513\n",
            "Epoch 25/100\n",
            "2/2 [==============================] - 0s 37ms/step - loss: 0.0384 - val_loss: 0.0513\n",
            "Epoch 26/100\n",
            "2/2 [==============================] - 0s 40ms/step - loss: 0.0384 - val_loss: 0.0513\n",
            "Epoch 27/100\n",
            "2/2 [==============================] - 0s 36ms/step - loss: 0.0384 - val_loss: 0.0513\n",
            "Epoch 28/100\n",
            "2/2 [==============================] - 0s 36ms/step - loss: 0.0384 - val_loss: 0.0513\n",
            "Epoch 29/100\n",
            "2/2 [==============================] - 0s 37ms/step - loss: 0.0384 - val_loss: 0.0513\n",
            "Epoch 30/100\n",
            "2/2 [==============================] - 0s 37ms/step - loss: 0.0384 - val_loss: 0.0513\n",
            "Epoch 31/100\n",
            "2/2 [==============================] - 0s 36ms/step - loss: 0.0384 - val_loss: 0.0513\n",
            "Epoch 32/100\n",
            "2/2 [==============================] - 0s 35ms/step - loss: 0.0384 - val_loss: 0.0513\n",
            "Epoch 33/100\n",
            "2/2 [==============================] - 0s 36ms/step - loss: 0.0384 - val_loss: 0.0513\n",
            "Epoch 34/100\n",
            "2/2 [==============================] - 0s 36ms/step - loss: 0.0384 - val_loss: 0.0513\n",
            "Epoch 35/100\n",
            "2/2 [==============================] - 0s 38ms/step - loss: 0.0384 - val_loss: 0.0512\n",
            "Epoch 36/100\n",
            "2/2 [==============================] - 0s 36ms/step - loss: 0.0384 - val_loss: 0.0513\n",
            "Epoch 37/100\n",
            "2/2 [==============================] - 0s 35ms/step - loss: 0.0384 - val_loss: 0.0513\n",
            "Epoch 38/100\n",
            "2/2 [==============================] - 0s 37ms/step - loss: 0.0384 - val_loss: 0.0513\n",
            "Epoch 39/100\n",
            "2/2 [==============================] - 0s 35ms/step - loss: 0.0384 - val_loss: 0.0513\n",
            "Epoch 40/100\n",
            "2/2 [==============================] - 0s 41ms/step - loss: 0.0384 - val_loss: 0.0513\n",
            "Epoch 41/100\n",
            "2/2 [==============================] - 0s 37ms/step - loss: 0.0384 - val_loss: 0.0513\n",
            "Epoch 42/100\n",
            "2/2 [==============================] - 0s 37ms/step - loss: 0.0384 - val_loss: 0.0513\n",
            "Epoch 43/100\n",
            "2/2 [==============================] - 0s 42ms/step - loss: 0.0383 - val_loss: 0.0513\n",
            "Epoch 44/100\n",
            "2/2 [==============================] - 0s 37ms/step - loss: 0.0383 - val_loss: 0.0513\n",
            "Epoch 45/100\n",
            "2/2 [==============================] - 0s 36ms/step - loss: 0.0384 - val_loss: 0.0513\n",
            "Epoch 46/100\n",
            "2/2 [==============================] - 0s 46ms/step - loss: 0.0383 - val_loss: 0.0513\n",
            "Epoch 47/100\n",
            "2/2 [==============================] - 0s 38ms/step - loss: 0.0384 - val_loss: 0.0513\n",
            "Epoch 48/100\n",
            "2/2 [==============================] - 0s 36ms/step - loss: 0.0383 - val_loss: 0.0513\n",
            "Epoch 49/100\n",
            "2/2 [==============================] - 0s 39ms/step - loss: 0.0383 - val_loss: 0.0513\n",
            "Epoch 50/100\n",
            "2/2 [==============================] - 0s 53ms/step - loss: 0.0384 - val_loss: 0.0513\n",
            "Epoch 51/100\n",
            "2/2 [==============================] - 0s 37ms/step - loss: 0.0383 - val_loss: 0.0512\n",
            "Epoch 52/100\n",
            "2/2 [==============================] - 0s 37ms/step - loss: 0.0383 - val_loss: 0.0513\n",
            "Epoch 53/100\n",
            "2/2 [==============================] - 0s 36ms/step - loss: 0.0383 - val_loss: 0.0513\n",
            "Epoch 54/100\n",
            "2/2 [==============================] - 0s 37ms/step - loss: 0.0383 - val_loss: 0.0513\n",
            "Epoch 55/100\n",
            "2/2 [==============================] - 0s 37ms/step - loss: 0.0383 - val_loss: 0.0513\n",
            "Epoch 56/100\n",
            "2/2 [==============================] - 0s 37ms/step - loss: 0.0383 - val_loss: 0.0513\n",
            "Epoch 57/100\n",
            "2/2 [==============================] - 0s 41ms/step - loss: 0.0383 - val_loss: 0.0512\n",
            "Epoch 58/100\n",
            "2/2 [==============================] - 0s 36ms/step - loss: 0.0383 - val_loss: 0.0512\n",
            "Epoch 59/100\n",
            "2/2 [==============================] - 0s 47ms/step - loss: 0.0383 - val_loss: 0.0513\n",
            "Epoch 60/100\n",
            "2/2 [==============================] - 0s 36ms/step - loss: 0.0383 - val_loss: 0.0512\n",
            "Epoch 61/100\n",
            "2/2 [==============================] - 0s 38ms/step - loss: 0.0383 - val_loss: 0.0512\n",
            "Epoch 62/100\n",
            "2/2 [==============================] - 0s 37ms/step - loss: 0.0383 - val_loss: 0.0513\n",
            "Epoch 63/100\n",
            "2/2 [==============================] - 0s 40ms/step - loss: 0.0383 - val_loss: 0.0512\n",
            "Epoch 64/100\n",
            "2/2 [==============================] - 0s 58ms/step - loss: 0.0383 - val_loss: 0.0512\n",
            "Epoch 65/100\n",
            "2/2 [==============================] - 0s 55ms/step - loss: 0.0383 - val_loss: 0.0512\n",
            "Epoch 66/100\n",
            "2/2 [==============================] - 0s 50ms/step - loss: 0.0383 - val_loss: 0.0512\n",
            "Epoch 67/100\n",
            "2/2 [==============================] - 0s 55ms/step - loss: 0.0383 - val_loss: 0.0512\n",
            "Epoch 68/100\n",
            "2/2 [==============================] - 0s 65ms/step - loss: 0.0383 - val_loss: 0.0513\n",
            "Epoch 69/100\n",
            "2/2 [==============================] - 0s 49ms/step - loss: 0.0383 - val_loss: 0.0512\n",
            "Epoch 70/100\n",
            "2/2 [==============================] - 0s 47ms/step - loss: 0.0383 - val_loss: 0.0512\n"
          ]
        }
      ]
    },
    {
      "cell_type": "markdown",
      "source": [
        "Una vez entrenado el modelo tenemos que predecir las secuencias de test. Cabe destacar que en este caso la predicción no es una etiqueta, si no un vector del mismo tamaño que la entrada que pretende reconstruir la misma con el menor error posible en caso de que sea normal. Por contra cuando esta no es normal (no ha sido incluída en el entrenamiento) el error de reconstrucción será mayor y por tanto podremos reconocer las arritmias."
      ],
      "metadata": {
        "id": "kdHNaemJQV89"
      }
    },
    {
      "cell_type": "code",
      "source": [
        "from sklearn.metrics import mean_squared_error\n",
        "\n",
        "pred = model.predict(X_test).reshape((1000,1000))\n",
        "X_test = X_test.reshape((1000,1000))\n",
        "mse = np.mean((X_test - pred)**2, axis=1)\n",
        "largest = np.argsort(mse)[-10:]\n",
        "lowest = np.argsort(mse)[:10]\n",
        "print(mse[largest])\n",
        "print(y_test[largest])"
      ],
      "metadata": {
        "colab": {
          "base_uri": "https://localhost:8080/"
        },
        "id": "EESrvvsMC9XU",
        "outputId": "a598ca4d-c744-45cc-de00-f21b8b2fd84d"
      },
      "execution_count": null,
      "outputs": [
        {
          "output_type": "stream",
          "name": "stdout",
          "text": [
            "[0.93752563 1.0906898  1.2547791  1.2752877  1.3076724  1.5583192\n",
            " 2.2051978  2.6934443  3.326564   3.6170454 ]\n",
            "[4 2 4 2 2 4 2 2 2 2]\n"
          ]
        }
      ]
    },
    {
      "cell_type": "markdown",
      "source": [
        "Podemos ver en los resultados que la mayoría de las etiquetas obtenidas no son cero, es decir, entre los 10 segmentos de test con mayor error de reconstrucción la mayoría son arritmias por lo que nuestro modelo está siendo capaz de diferenciar el latido normal del anómalo."
      ],
      "metadata": {
        "id": "8yRDCZUUqoCr"
      }
    },
    {
      "cell_type": "markdown",
      "source": [
        "A continuación visualizamos el segmento que tiene menor y mayor error de reconstrucción respectivamente. "
      ],
      "metadata": {
        "id": "bxF_xAsUQpUc"
      }
    },
    {
      "cell_type": "code",
      "source": [
        "import matplotlib.pyplot as plt\n",
        "plt.plot(X_test[lowest[0]], color=\"blue\", label=\"Original\")\n",
        "plt.plot(pred[lowest[0]], color=\"red\", label=\"Reconstrucción\")\n",
        "plt.title(\"Menor error de reconstrucción, etiqueta: \" + str(y_test[lowest[0]]))\n",
        "plt.legend()\n",
        "plt.show()"
      ],
      "metadata": {
        "id": "PZmBApkoJJqy",
        "colab": {
          "base_uri": "https://localhost:8080/",
          "height": 281
        },
        "outputId": "6d3bbad7-4ba9-4cc2-96ce-8bdf6ceeabbc"
      },
      "execution_count": null,
      "outputs": [
        {
          "output_type": "display_data",
          "data": {
            "text/plain": [
              "<Figure size 432x288 with 1 Axes>"
            ],
            "image/png": "[encoded data removed]"
          },
          "metadata": {
            "needs_background": "light"
          }
        }
      ]
    },
    {
      "cell_type": "code",
      "source": [
        "import matplotlib.pyplot as plt\n",
        "plt.plot(X_test[largest[0]], color=\"blue\", label=\"Original\")\n",
        "plt.plot(pred[largest[0]], color=\"red\", label=\"Reconstrucción\")\n",
        "plt.title(\"Mayor error de reconstrucción, etiqueta: \" + str(y_test[largest[0]]))\n",
        "plt.legend()\n",
        "plt.show()"
      ],
      "metadata": {
        "colab": {
          "base_uri": "https://localhost:8080/",
          "height": 281
        },
        "id": "WCGIH1MNLy7X",
        "outputId": "0272f34b-aa39-4ca7-a3c8-03cad2dd7c62"
      },
      "execution_count": null,
      "outputs": [
        {
          "output_type": "display_data",
          "data": {
            "text/plain": [
              "<Figure size 432x288 with 1 Axes>"
            ],
            "image/png": "[encoded data removed]"
          },
          "metadata": {
            "needs_background": "light"
          }
        }
      ]
    },
    {
      "cell_type": "markdown",
      "source": [
        "Como podemos ver en el primer segmento el error es bajo y la red ha sido capaz de modelarlo aproximadamente, no obstante no se obtiene el mejor de los ajustes por la reducida cantidad de datos. Por otro lado podemos ver que en el caso del segmento con mayor error de reconstrucción nuestra red no ha sido capaz de modelarlo ya que este tipo de datos no estaban presentes en el entrenamiento. De esta forma nuestra red tiende a cometer un error mayor en datos no vistos (latidos anómalos) y un error bajo en datos ya vistos (latidos normales)."
      ],
      "metadata": {
        "id": "KAPmdwIwq1tR"
      }
    }
  ]
}